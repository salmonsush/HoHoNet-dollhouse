{
 "cells": [
  {
   "cell_type": "code",
   "execution_count": 3,
   "metadata": {
    "colab": {
     "base_uri": "https://localhost:8080/"
    },
    "executionInfo": {
     "elapsed": 42959,
     "status": "ok",
     "timestamp": 1680868873661,
     "user": {
      "displayName": "태진김",
      "userId": "07364981126465364779"
     },
     "user_tz": -540
    },
    "id": "rXIJ4-SYUb0N",
    "outputId": "d0e5baac-a057-455e-802d-b9ebaef762d7",
    "tags": []
   },
   "outputs": [],
   "source": [
    "!pip install -q open3d\n",
    " # Pillow 꼭 버전 지킬 것. 함수가 달라져서 민감함.\n",
    "!pip install Pillow==9.0.0 -q"
   ]
  },
  {
   "cell_type": "code",
   "execution_count": 4,
   "metadata": {
    "colab": {
     "base_uri": "https://localhost:8080/"
    },
    "executionInfo": {
     "elapsed": 10,
     "status": "ok",
     "timestamp": 1680868873662,
     "user": {
      "displayName": "태진김",
      "userId": "07364981126465364779"
     },
     "user_tz": -540
    },
    "id": "90nCY61BUthd",
    "outputId": "478a966f-7dd1-475b-fc7b-118d079586e0",
    "tags": []
   },
   "outputs": [
    {
     "data": {
      "text/plain": [
       "'C:\\\\Dev\\\\Code sources\\\\VisualStudioCode repos\\\\salmonsush\\\\HoHoNet-dollhouse'"
      ]
     },
     "execution_count": 4,
     "metadata": {},
     "output_type": "execute_result"
    }
   ],
   "source": [
    "%pwd"
   ]
  },
  {
   "cell_type": "code",
   "execution_count": 6,
   "metadata": {
    "tags": []
   },
   "outputs": [
    {
     "name": "stdout",
     "output_type": "stream",
     "text": [
      "# conda environments:\n",
      "#\n",
      "base                     C:\\Dev\\Miniconda\n",
      "FreDS                    C:\\Dev\\Miniconda\\envs\\FreDS\n",
      "depth_1.7                C:\\Dev\\Miniconda\\envs\\depth_1.7\n",
      "firstvenv                C:\\Dev\\Miniconda\\envs\\firstvenv\n",
      "hoho                  *  C:\\Dev\\Miniconda\\envs\\hoho\n",
      "o3d                      C:\\Dev\\Miniconda\\envs\\o3d\n",
      "panoformer               C:\\Dev\\Miniconda\\envs\\panoformer\n",
      "\n"
     ]
    }
   ],
   "source": [
    "!conda env list"
   ]
  },
  {
   "cell_type": "code",
   "execution_count": 7,
   "metadata": {
    "executionInfo": {
     "elapsed": 27942,
     "status": "ok",
     "timestamp": 1680868901598,
     "user": {
      "displayName": "태진김",
      "userId": "07364981126465364779"
     },
     "user_tz": -540
    },
    "id": "Rnqfh3galJUa",
    "tags": []
   },
   "outputs": [],
   "source": [
    "!pip install yacs -q\n",
    "!pip install gdown -q\n",
    "!pip install plotly -q"
   ]
  },
  {
   "cell_type": "code",
   "execution_count": 9,
   "metadata": {
    "executionInfo": {
     "elapsed": 3293,
     "status": "ok",
     "timestamp": 1680868904877,
     "user": {
      "displayName": "태진김",
      "userId": "07364981126465364779"
     },
     "user_tz": -540
    },
    "id": "uz6AvDD9lJUl",
    "tags": []
   },
   "outputs": [
    {
     "ename": "ModuleNotFoundError",
     "evalue": "No module named 'torch'",
     "output_type": "error",
     "traceback": [
      "\u001b[1;31m---------------------------------------------------------------------------\u001b[0m",
      "\u001b[1;31mModuleNotFoundError\u001b[0m                       Traceback (most recent call last)",
      "Cell \u001b[1;32mIn[9], line 6\u001b[0m\n\u001b[0;32m      4\u001b[0m \u001b[38;5;28;01mfrom\u001b[39;00m \u001b[38;5;21;01mtqdm\u001b[39;00m\u001b[38;5;21;01m.\u001b[39;00m\u001b[38;5;21;01mnotebook\u001b[39;00m \u001b[38;5;28;01mimport\u001b[39;00m tqdm\n\u001b[0;32m      5\u001b[0m \u001b[38;5;66;03m# from imageio import imread\u001b[39;00m\n\u001b[1;32m----> 6\u001b[0m \u001b[38;5;28;01mimport\u001b[39;00m \u001b[38;5;21;01mtorch\u001b[39;00m\n\u001b[0;32m      7\u001b[0m \u001b[38;5;28;01mimport\u001b[39;00m \u001b[38;5;21;01mnumpy\u001b[39;00m \u001b[38;5;28;01mas\u001b[39;00m \u001b[38;5;21;01mnp\u001b[39;00m\n\u001b[0;32m      8\u001b[0m \u001b[38;5;28;01mimport\u001b[39;00m \u001b[38;5;21;01mmatplotlib\u001b[39;00m\u001b[38;5;21;01m.\u001b[39;00m\u001b[38;5;21;01mpyplot\u001b[39;00m \u001b[38;5;28;01mas\u001b[39;00m \u001b[38;5;21;01mplt\u001b[39;00m\n",
      "\u001b[1;31mModuleNotFoundError\u001b[0m: No module named 'torch'"
     ]
    }
   ],
   "source": [
    "import os, sys, time\n",
    "import argparse\n",
    "import importlib\n",
    "from tqdm.notebook import tqdm\n",
    "# from imageio import imread\n",
    "import torch\n",
    "import numpy as np\n",
    "import matplotlib.pyplot as plt\n",
    "import cv2\n"
   ]
  },
  {
   "cell_type": "markdown",
   "metadata": {
    "id": "BL-SkWMAlJUn"
   },
   "source": [
    "### Download pretrained\n",
    "- We use HoHoNet w/ hardnet encoder in this demo\n",
    "- Download other version [here](https://drive.google.com/drive/folders/1raT3vRXnQXRAQuYq36dE-93xFc_hgkTQ?usp=sharing)"
   ]
  },
  {
   "cell_type": "code",
   "execution_count": 10,
   "metadata": {
    "executionInfo": {
     "elapsed": 4,
     "status": "ok",
     "timestamp": 1680868904877,
     "user": {
      "displayName": "태진김",
      "userId": "07364981126465364779"
     },
     "user_tz": -540
    },
    "id": "UYTNPGTPlJUq",
    "tags": []
   },
   "outputs": [
    {
     "name": "stdout",
     "output_type": "stream",
     "text": [
      "Access denied with the following error:\n"
     ]
    },
    {
     "name": "stderr",
     "output_type": "stream",
     "text": [
      "\n",
      " \tCannot retrieve the public link of the file. You may need to change\n",
      "\tthe permission to 'Anyone with the link', or have had many accesses. \n",
      "\n",
      "You may still be able to access the file from the browser:\n",
      "\n",
      "\t https://drive.google.com/uc?id='https://drive.google.com/uc?id=1OU9uyuNiswkPovJuvG3sevm3LqHJgazJ' \n",
      "\n"
     ]
    }
   ],
   "source": [
    "PRETRAINED_PTH = 'ckpt/mp3d_layout_HOHO_layout_aug_efficienthc_Transen1_resnet34/ep300.pth'\n",
    "\n",
    "if not os.path.exists(PRETRAINED_PTH):\n",
    "    os.makedirs(os.path.split(PRETRAINED_PTH)[0], exist_ok=True)\n",
    "    !gdown 'https://drive.google.com/uc?id=1OU9uyuNiswkPovJuvG3sevm3LqHJgazJ' -O $PRETRAINED_PTH"
   ]
  },
  {
   "cell_type": "markdown",
   "metadata": {
    "id": "ZBnhIVOclJUv"
   },
   "source": [
    "### Load model config\n",
    "- We use HoHoNet w/ hardnet encoder in this demo\n",
    "- Find out other version in `mp3d_depth/` and `s2d3d_depth`"
   ]
  },
  {
   "cell_type": "code",
   "execution_count": 6,
   "metadata": {
    "executionInfo": {
     "elapsed": 539,
     "status": "ok",
     "timestamp": 1680868905413,
     "user": {
      "displayName": "태진김",
      "userId": "07364981126465364779"
     },
     "user_tz": -540
    },
    "id": "xazFaTyzlJUw"
   },
   "outputs": [],
   "source": [
    "from lib.config import config\n",
    "\n",
    "config.defrost()\n",
    "config.merge_from_file('config/mp3d_layout/HOHO_layout_aug_efficienthc_Transen1_resnet34.yaml')\n",
    "config.freeze()"
   ]
  },
  {
   "cell_type": "markdown",
   "metadata": {
    "id": "hNBpZEjJlJUx"
   },
   "source": [
    "### Load model"
   ]
  },
  {
   "cell_type": "code",
   "execution_count": 7,
   "metadata": {
    "colab": {
     "base_uri": "https://localhost:8080/"
    },
    "executionInfo": {
     "elapsed": 1787,
     "status": "ok",
     "timestamp": 1680868907196,
     "user": {
      "displayName": "태진김",
      "userId": "07364981126465364779"
     },
     "user_tz": -540
    },
    "id": "zF31NxNflJUy",
    "outputId": "b56e2885-348b-4ad3-977d-7e0a428f8021"
   },
   "outputs": [
    {
     "name": "stdout",
     "output_type": "stream",
     "text": [
      "devcie: cpu\n"
     ]
    },
    {
     "name": "stderr",
     "output_type": "stream",
     "text": [
      "/usr/local/lib/python3.9/dist-packages/torchvision/models/_utils.py:208: UserWarning: The parameter 'pretrained' is deprecated since 0.13 and may be removed in the future, please use 'weights' instead.\n",
      "  warnings.warn(\n",
      "/usr/local/lib/python3.9/dist-packages/torchvision/models/_utils.py:223: UserWarning: Arguments other than a weight enum or `None` for 'weights' are deprecated since 0.13 and may be removed in the future. The current behavior is equivalent to passing `weights=ResNet34_Weights.IMAGENET1K_V1`. You can also use `weights=ResNet34_Weights.DEFAULT` to get the most up-to-date weights.\n",
      "  warnings.warn(msg)\n"
     ]
    }
   ],
   "source": [
    "device = 'cuda' if torch.cuda.is_available() else 'cpu'\n",
    "print('devcie:', device)\n",
    "\n",
    "model_file = importlib.import_module(config.model.file)\n",
    "model_class = getattr(model_file, config.model.modelclass)\n",
    "net = model_class(**config.model.kwargs)\n",
    "net.load_state_dict(torch.load(PRETRAINED_PTH, map_location=device))\n",
    "net = net.eval().to(device)"
   ]
  },
  {
   "cell_type": "markdown",
   "metadata": {
    "id": "4m_M7pIHo4mK"
   },
   "source": [
    "### Load image"
   ]
  },
  {
   "cell_type": "code",
   "execution_count": 8,
   "metadata": {
    "colab": {
     "base_uri": "https://localhost:8080/"
    },
    "executionInfo": {
     "elapsed": 1395,
     "status": "ok",
     "timestamp": 1680868908589,
     "user": {
      "displayName": "태진김",
      "userId": "07364981126465364779"
     },
     "user_tz": -540
    },
    "id": "YiaZBpbBlJUt",
    "outputId": "0827dc2d-b0b2-4f1e-e982-ed016d1f52d1"
   },
   "outputs": [
    {
     "name": "stderr",
     "output_type": "stream",
     "text": [
      "<ipython-input-8-42cef4c937a3>:1: DeprecationWarning: Starting with ImageIO v3 the behavior of this function will switch to that of iio.v3.imread. To keep the current behavior (and make this warning disappear) use `import imageio.v2 as imageio` or call `imageio.v2.imread` directly.\n",
      "  rgb1 = imread('/content/drive/MyDrive/Capstone/input/006/crop_pano/44304216.png')\n"
     ]
    }
   ],
   "source": [
    "rgb1 = imread('/content/drive/MyDrive/Capstone/input/006/crop_pano/44304216.png')\n",
    "\n",
    "# plt.imshow(rgb1)\n",
    "# plt.show()\n",
    "rgb1 = cv2.resize(rgb1, (1024, 512), interpolation=cv2.INTER_LINEAR)\n"
   ]
  },
  {
   "cell_type": "code",
   "execution_count": 9,
   "metadata": {
    "colab": {
     "base_uri": "https://localhost:8080/"
    },
    "executionInfo": {
     "elapsed": 408,
     "status": "ok",
     "timestamp": 1680868908992,
     "user": {
      "displayName": "태진김",
      "userId": "07364981126465364779"
     },
     "user_tz": -540
    },
    "id": "IBTLOxgByGZO",
    "outputId": "63bf1196-ce8e-46c0-bddf-3a04d2fdf041"
   },
   "outputs": [
    {
     "name": "stderr",
     "output_type": "stream",
     "text": [
      "<ipython-input-9-960d22a6a66e>:1: DeprecationWarning: Starting with ImageIO v3 the behavior of this function will switch to that of iio.v3.imread. To keep the current behavior (and make this warning disappear) use `import imageio.v2 as imageio` or call `imageio.v2.imread` directly.\n",
      "  rgb2 = imread('/content/drive/MyDrive/Capstone/input/006/crop_pano/4898.png')\n"
     ]
    }
   ],
   "source": [
    "rgb2 = imread('/content/drive/MyDrive/Capstone/input/006/crop_pano/4898.png')\n",
    "\n",
    "# plt.imshow(rgb2)/\n",
    "# plt.show()\n",
    "rgb2 = cv2.resize(rgb2, (1024, 512), interpolation=cv2.INTER_LINEAR) # 문좌표 135,480\n"
   ]
  },
  {
   "cell_type": "code",
   "execution_count": 19,
   "metadata": {
    "colab": {
     "base_uri": "https://localhost:8080/"
    },
    "executionInfo": {
     "elapsed": 1053,
     "status": "ok",
     "timestamp": 1680868982798,
     "user": {
      "displayName": "태진김",
      "userId": "07364981126465364779"
     },
     "user_tz": -540
    },
    "id": "5uB2AD-AMMAN",
    "outputId": "3f2a316e-d1f4-42b0-82de-8d865b47c54c"
   },
   "outputs": [
    {
     "name": "stderr",
     "output_type": "stream",
     "text": [
      "<ipython-input-19-1b08d248d810>:1: DeprecationWarning: Starting with ImageIO v3 the behavior of this function will switch to that of iio.v3.imread. To keep the current behavior (and make this warning disappear) use `import imageio.v2 as imageio` or call `imageio.v2.imread` directly.\n",
      "  rgb3 = imread('/content/drive/MyDrive/Capstone/input/006/crop_pano/4955.png')                                                                                   # 3버어어어어ㅓ언어ㅓ엉ㄴ\n"
     ]
    }
   ],
   "source": [
    "rgb3 = imread('/content/drive/MyDrive/Capstone/input/006/crop_pano/4955.png')                                                                                   # 3버어어어어ㅓ언어ㅓ엉ㄴ\n",
    "\n",
    "# plt.imshow(rgb2)/\n",
    "# plt.show()\n",
    "rgb3 = cv2.resize(rgb3, (1024, 512), interpolation=cv2.INTER_LINEAR) # 문좌표 135,480\n"
   ]
  },
  {
   "cell_type": "code",
   "execution_count": 11,
   "metadata": {
    "executionInfo": {
     "elapsed": 3409,
     "status": "ok",
     "timestamp": 1680868913964,
     "user": {
      "displayName": "태진김",
      "userId": "07364981126465364779"
     },
     "user_tz": -540
    },
    "id": "lVVio6_dpD7W"
   },
   "outputs": [],
   "source": [
    "import open3d as o3d\n",
    "import plotly.graph_objects as go\n",
    "from scipy.signal import correlate2d\n",
    "from scipy.ndimage import shift\n",
    "from skimage.transform import resize\n",
    "from eval_layout import layout_2_depth\n",
    "from lib.misc.post_proc import np_coor2xy, np_coorx2u, np_coory2v\n",
    "\n",
    "def Infer(rgb, door_x, door_y, net):\n",
    "    \"\"\"\n",
    "    infer and exports point and faces and resized point of door.\n",
    "    output:{\n",
    "      points : all the spherical-coordinate(x,y,z) of 131528 points(shape: 131528,3) on the image, \n",
    "      faces : all the 3-indices(i,j,k) of vertex for each  260000 faces, \n",
    "      cor_id : 3-coordinate(x,y,z) of cor_id, the vertices of layout i.e 12, (2x6) points, \n",
    "      door_x_resized : resized x-coordinate of door point, \n",
    "      door_y_resized : resized y-coordinate of door point, \n",
    "      xs : spherical-coordinate(x) of 131528 points(shape: 256,513), \n",
    "      ys : spherical-coordinate(y) of 131528 points(shape: 256,513),\n",
    "      zs : spherical-coordinate(z) of 131528 points(shape: 256,513)\n",
    "    }\n",
    "    \"\"\"\n",
    "    # Move image into tensor, normalize to [0,255], resize to 512x1024\n",
    "    device = torch.device('cuda' if torch.cuda.is_available() else 'cpu')\n",
    "    x = torch.from_numpy(rgb).permute(2,0,1)[None].float() / 255.\n",
    "    if x.shape[2:] != (512, 1024):\n",
    "        x = torch.nn.functional.interpolate(x, size=(512, 1024), mode='area')\n",
    "        print(\"fitting\")\n",
    "    x = x.to(device)\n",
    "    \n",
    "    # Model feedforward\n",
    "    with torch.no_grad():\n",
    "        ts = time.time()\n",
    "        layout = net.infer(x)\n",
    "        if torch.cuda.is_available():\n",
    "            torch.cuda.synchronize()\n",
    "        print(f'Eps time: {time.time() - ts:.2f} sec.')\n",
    "\n",
    "    cor_id = layout['cor_id']\n",
    "    y_bon_ = layout['y_bon_']\n",
    "    y_cor_ = layout['y_cor_']\n",
    "\n",
    "    # source code\n",
    "    H, W = 256, 512\n",
    "\n",
    "    # resize door coordinate from 512x1024 to 256x512\n",
    "    door_x_resized = int(door_x*(W/1024))\n",
    "    door_y_resized = int(door_y*(H/512))\n",
    "    print(door_x, door_y)\n",
    "\n",
    "\n",
    "    ignore_floor = False\n",
    "    ignore_ceiling = False\n",
    "    ignore_wall = False\n",
    "\n",
    "    # Convert corners to layout\n",
    "    depth, floor_mask, ceil_mask, wall_mask = [\n",
    "        resize(v, [H, W], order=0, preserve_range=True).astype(v.dtype)\n",
    "        for v in layout_2_depth(cor_id, *rgb.shape[:2], return_mask=True)]\n",
    "\n",
    "    cor_id[:,0] = (cor_id[:,0] * (256/512)).astype(int)\n",
    "    cor_id[:,1] = (cor_id[:,1] * (512/1024)).astype(int)\n",
    "    cor_id = cor_id[:,::-1].astype(int)\n",
    "\n",
    "    # 빈 좌표계 만들어주기\n",
    "    coorx, coory = np.meshgrid(np.arange(W), np.arange(H)) #256,512\n",
    "    # 구면좌표계로 변환\n",
    "    us = -1 * np_coorx2u(coorx, W) # -pi ~ pi\n",
    "    vs = np_coory2v(coory, H) # -1/2*pi ~ 1/2*pi\n",
    "    zs = depth * np.sin(vs) \n",
    "    cs = depth * np.cos(vs)\n",
    "    xs = cs * np.sin(us)\n",
    "    ys = -cs * np.cos(us) # 전부다 사이즈 256.512\n",
    "\n",
    "    # Aggregate mask\n",
    "    mask = np.ones_like(floor_mask)\n",
    "    if ignore_floor:\n",
    "        mask &= ~floor_mask\n",
    "    if ignore_ceiling:\n",
    "        mask &= ~ceil_mask\n",
    "    if ignore_wall:\n",
    "        mask &= ~wall_mask\n",
    "\n",
    "    # Prepare ply's points and faces\n",
    "    xyzrgb = np.concatenate([\n",
    "        xs[...,None], ys[...,None], zs[...,None],\n",
    "        resize(rgb, [H, W])], -1)\n",
    "    xyzrgb = np.concatenate([xyzrgb, xyzrgb[:,[0]]], 1) # 수평선으로 폐쇄된 mesh를 만들기 위한 것.\n",
    "\n",
    "    mask = np.concatenate([mask, mask[:,[0]]], 1)\n",
    "\n",
    "    lo_tri_template = np.array([\n",
    "        [0, 0, 0],\n",
    "        [0, 1, 0],\n",
    "        [0, 1, 1]])\n",
    "    up_tri_template = np.array([\n",
    "        [0, 0, 0],\n",
    "        [0, 1, 1],\n",
    "        [0, 0, 1]])\n",
    "    ma_tri_template = np.array([\n",
    "        [0, 0, 0],\n",
    "        [0, 1, 1],\n",
    "        [0, 1, 0]])\n",
    "    lo_mask = (correlate2d(mask, lo_tri_template, mode='same') == 3)\n",
    "    up_mask = (correlate2d(mask, up_tri_template, mode='same') == 3)\n",
    "    ma_mask = (correlate2d(mask, ma_tri_template, mode='same') == 3) & (~lo_mask) & (~up_mask)\n",
    "    ref_mask = (\n",
    "        lo_mask | (correlate2d(lo_mask, np.flip(lo_tri_template, (0,1)), mode='same') > 0) |\\\n",
    "        up_mask | (correlate2d(up_mask, np.flip(up_tri_template, (0,1)), mode='same') > 0) |\\\n",
    "        ma_mask | (correlate2d(ma_mask, np.flip(ma_tri_template, (0,1)), mode='same') > 0)\n",
    "    ) # ref_mask : 256x513\n",
    "    points = xyzrgb[ref_mask]\n",
    "    ref_id = np.full(ref_mask.shape, -1, np.int32)\n",
    "    ref_id[ref_mask] = np.arange(ref_mask.sum())\n",
    "\n",
    "    faces_lo_tri = np.stack([\n",
    "        ref_id[lo_mask],\n",
    "        ref_id[shift(lo_mask, [1, 0], cval=False, order=0)],\n",
    "        ref_id[shift(lo_mask, [1, 1], cval=False, order=0)],\n",
    "    ], 1)\n",
    "    faces_up_tri = np.stack([\n",
    "        ref_id[up_mask],\n",
    "        ref_id[shift(up_mask, [1, 1], cval=False, order=0)],\n",
    "        ref_id[shift(up_mask, [0, 1], cval=False, order=0)],\n",
    "    ], 1)\n",
    "    faces_ma_tri = np.stack([\n",
    "        ref_id[ma_mask],\n",
    "        ref_id[shift(ma_mask, [1, 0], cval=False, order=0)],\n",
    "        ref_id[shift(ma_mask, [0, 1], cval=False, order=0)],\n",
    "    ], 1)\n",
    "    faces = np.concatenate([faces_lo_tri, faces_up_tri, faces_ma_tri])\n",
    "\n",
    "    return cor_id, door_x_resized, door_y_resized, us, vs, xs, ys, zs\n",
    "\n",
    "def get_vertices(cor_id, xs, ys, zs):\n",
    "    cor_id = cor_id.tolist()\n",
    "    points = np.empty((0, 3))\n",
    "    for point in cor_id:\n",
    "        x = xs[point[0], point[1]]\n",
    "        y = ys[point[0], point[1]]\n",
    "        z = zs[point[0], point[1]]\n",
    "        points = np.vstack((points, np.array([x, y, z])))\n",
    "    return points\n",
    "\n",
    "def Getdoor(x, y, xs, ys, zs):\n",
    "    door_coorx = xs[x, y]\n",
    "    door_coory = ys[x, y]\n",
    "    door_coorz = zs[x, y]\n",
    "    vertex_i = np.array([door_coorx, door_coory, door_coorz])\n",
    "\n",
    "    door_coorx = xs[x, y-1]\n",
    "    door_coory = ys[x, y-1]\n",
    "    door_coorz = zs[x, y-1]\n",
    "    vertex_j = np.array([door_coorx, door_coory, door_coorz])\n",
    "\n",
    "    door_coorx = xs[x+1, y]\n",
    "    door_coory = ys[x+1, y]\n",
    "    door_coorz = zs[x+1, y]\n",
    "    vertex_k = np.array([door_coorx, door_coory, door_coorz])\n",
    "\n",
    "    door_coorx, door_coory, door_coorz = vertex_i\n",
    "\n",
    "    v1 = np.array(vertex_j) - np.array(vertex_i)\n",
    "    v2 = np.array(vertex_k) - np.array(vertex_i)\n",
    "    normal = np.cross(v1, v2)\n",
    "    normal = normal / np.linalg.norm(normal)\n",
    "    return door_coorx, door_coory, door_coorz, normal"
   ]
  },
  {
   "cell_type": "code",
   "execution_count": 12,
   "metadata": {
    "executionInfo": {
     "elapsed": 12,
     "status": "ok",
     "timestamp": 1680868913965,
     "user": {
      "displayName": "태진김",
      "userId": "07364981126465364779"
     },
     "user_tz": -540
    },
    "id": "UyeSnkCsUMPQ"
   },
   "outputs": [],
   "source": [
    "def transition(points1, coorx1, coory1, coorz1, points2, coorx2, coory2, coorz2):\n",
    "  trans_matrix = np.array([coorx1, coory1, coorz1])-np.array([coorx2, coory2, coorz2])\n",
    "  points2 = points2+trans_matrix\n",
    "  coorx2 = coorx2+trans_matrix[0]\n",
    "  coory2 = coory2+trans_matrix[1]\n",
    "  coorz2 = coorz2+trans_matrix[2]\n",
    "  return points2, coorx2, coory2, coorz2"
   ]
  },
  {
   "cell_type": "code",
   "execution_count": 13,
   "metadata": {
    "executionInfo": {
     "elapsed": 12,
     "status": "ok",
     "timestamp": 1680868913965,
     "user": {
      "displayName": "태진김",
      "userId": "07364981126465364779"
     },
     "user_tz": -540
    },
    "id": "I3aX4QCSVaoZ"
   },
   "outputs": [],
   "source": [
    "def rotate(points1, vector1, points2, vector2):\n",
    "    # Define the vectors\n",
    "    vector1 = -vector1\n",
    "    # Calculate the cross product between the two vectors\n",
    "    cross_product = np.cross(vector1, vector2)\n",
    "\n",
    "    # Calculate the dot product between the two vectors\n",
    "    dot_product = np.dot(vector1, vector2)\n",
    "\n",
    "    # Calculate the norm of the cross product\n",
    "    cross_norm = np.linalg.norm(cross_product)\n",
    "\n",
    "    # Calculate the rotation angle\n",
    "    angle = np.arctan2(cross_norm, dot_product)\n",
    "\n",
    "    # Calculate the rotation axis\n",
    "    axis = cross_product / cross_norm\n",
    "\n",
    "    # Create the rotation matrix\n",
    "    rotation_matrix = np.array([[np.cos(angle) + axis[0]**2*(1-np.cos(angle)), \n",
    "                                axis[0]*axis[1]*(1-np.cos(angle)) - axis[2]*np.sin(angle), \n",
    "                                axis[0]*axis[2]*(1-np.cos(angle)) + axis[1]*np.sin(angle)],\n",
    "                                [axis[1]*axis[0]*(1-np.cos(angle)) + axis[2]*np.sin(angle), \n",
    "                                np.cos(angle) + axis[1]**2*(1-np.cos(angle)), \n",
    "                                axis[1]*axis[2]*(1-np.cos(angle)) - axis[0]*np.sin(angle)],\n",
    "                                [axis[2]*axis[0]*(1-np.cos(angle)) - axis[1]*np.sin(angle), \n",
    "                                axis[2]*axis[1]*(1-np.cos(angle)) + axis[0]*np.sin(angle), \n",
    "                                np.cos(angle) + axis[2]**2*(1-np.cos(angle))]])\n",
    "\n",
    "    # Apply the rotation matrix to vector2\n",
    "    new_vector2 = np.dot(rotation_matrix, vector2)\n",
    "\n",
    "    print(\"Original vector1:\", vector1)\n",
    "    print(\"Original vector2:\", vector2)\n",
    "    print(\"Rotated vector2:\", new_vector2)\n",
    "\n",
    "    # Rotate points2 to be the same orientation as points1\n",
    "    new_points2 = np.dot(points2, rotation_matrix)\n",
    "\n",
    "    return new_points2, new_vector2\n"
   ]
  },
  {
   "cell_type": "code",
   "execution_count": 14,
   "metadata": {
    "executionInfo": {
     "elapsed": 12,
     "status": "ok",
     "timestamp": 1680868913965,
     "user": {
      "displayName": "태진김",
      "userId": "07364981126465364779"
     },
     "user_tz": -540
    },
    "id": "dWZT_He3UNTw"
   },
   "outputs": [],
   "source": [
    "def generate_mesh_faces(n):\n",
    "    i = np.arange(n)\n",
    "    j = np.roll(i, -1)\n",
    "    k = np.roll(i, -2)\n",
    "    faces = np.column_stack((i, j, k))\n",
    "    faces = np.column_stack(faces, )\n",
    "    return faces\n"
   ]
  },
  {
   "cell_type": "code",
   "execution_count": 15,
   "metadata": {
    "colab": {
     "base_uri": "https://localhost:8080/"
    },
    "executionInfo": {
     "elapsed": 6945,
     "status": "ok",
     "timestamp": 1680868920899,
     "user": {
      "displayName": "태진김",
      "userId": "07364981126465364779"
     },
     "user_tz": -540
    },
    "id": "DmhNzCtAq_hX",
    "outputId": "ae1c7953-a8c3-4e8a-f4fc-4bb21f72c076"
   },
   "outputs": [
    {
     "name": "stdout",
     "output_type": "stream",
     "text": [
      "Eps time: 6.71 sec.\n",
      "290 526\n",
      "-0.28604719586724914 -3.0991155541336277 -0.6788553843753702\n",
      "[-0.00301098  0.99999079 -0.00305786]\n"
     ]
    }
   ],
   "source": [
    "cor_id1, room1_x_resized, room1_y_resized, us1, vs1, xs1, ys1, zs1 = Infer(rgb1, 290, 526, net)\n",
    "points1 = get_vertices(cor_id1, xs1, ys1, zs1)\n",
    "coorx1, coory1, coorz1, normal1 = Getdoor(room1_x_resized, room1_y_resized, xs1, ys1, zs1)\n",
    "faces1 = generate_mesh_faces(len(points1))\n",
    "print(coorx1, coory1, coorz1)\n",
    "print(normal1)\n"
   ]
  },
  {
   "cell_type": "code",
   "execution_count": 16,
   "metadata": {
    "colab": {
     "base_uri": "https://localhost:8080/"
    },
    "executionInfo": {
     "elapsed": 3702,
     "status": "ok",
     "timestamp": 1680868924590,
     "user": {
      "displayName": "태진김",
      "userId": "07364981126465364779"
     },
     "user_tz": -540
    },
    "id": "iZ95ozz-wEIN",
    "outputId": "abbc6785-cb10-4e8d-87ea-51ded294354a"
   },
   "outputs": [
    {
     "name": "stdout",
     "output_type": "stream",
     "text": [
      "Eps time: 3.24 sec.\n",
      "295 960\n",
      "-1.1106622119575442 2.728611397002909 -0.7187521657566527\n",
      "[ 0.00332344 -0.9999904  -0.0028539 ]\n",
      "Original vector1: [ 0.00301098 -0.99999079  0.00305786]\n",
      "Original vector2: [ 0.00332344 -0.9999904  -0.0028539 ]\n",
      "Rotated vector2: [ 0.00363578 -0.99995497 -0.00876555]\n",
      "before transition :  -1.1106622119575442 2.728611397002909 -0.7187521657566527\n",
      "after transition :  -0.28604719586724914 -3.0991155541336277 -0.6788553843753702\n"
     ]
    }
   ],
   "source": [
    "cor_id2, room2_x_resized, room2_y_resized, us2, vs2, xs2, ys2, zs2 = Infer(rgb2, 295, 960, net) # 문 좌표 업데이트 원래 중심: 295, 934\n",
    "points2 = get_vertices(cor_id2, xs2, ys2, zs2)\n",
    "coorx2, coory2, coorz2, normal2 = Getdoor(room2_x_resized, room2_y_resized, xs2, ys2, zs2)\n",
    "faces2 = generate_mesh_faces(len(points2))\n",
    "print(coorx2, coory2, coorz2)\n",
    "print(normal2)\n",
    "points2, norm2 = rotate(points1, normal1, points2[:,:3], normal2)\n",
    "print(\"before transition : \", coorx2, coory2, coorz2)\n",
    "points2, coorx2, coory2, coorz2 = transition(points1, coorx1, coory1, coorz1, points2[:,:3], coorx2, coory2, coorz2)\n",
    "print(\"after transition : \", coorx2, coory2, coorz2)"
   ]
  },
  {
   "cell_type": "code",
   "execution_count": 20,
   "metadata": {
    "colab": {
     "base_uri": "https://localhost:8080/"
    },
    "executionInfo": {
     "elapsed": 3175,
     "status": "ok",
     "timestamp": 1680868993200,
     "user": {
      "displayName": "태진김",
      "userId": "07364981126465364779"
     },
     "user_tz": -540
    },
    "id": "8_XyjGphMXd7",
    "outputId": "33c8278e-2f75-48c1-ee02-9e4ec7260759"
   },
   "outputs": [
    {
     "name": "stdout",
     "output_type": "stream",
     "text": [
      "Eps time: 2.57 sec.\n",
      "280 900\n",
      "-1.2036021883207084 1.2798164307546982 -0.27163426946765895\n",
      "[ 0.99999374  0.00284824 -0.00209879]\n"
     ]
    }
   ],
   "source": [
    "cor_id3, room3_x_resized, room3_y_resized, us3, vs3, xs3, ys3, zs3 = Infer(rgb3, 280, 900, net)                                                      # 3버어어어ㅓ어어언\n",
    "points3 = get_vertices(cor_id3, xs3, ys3, zs3)\n",
    "coorx3, coory3, coorz3, normal3 = Getdoor(room3_x_resized, room3_y_resized, xs3, ys3, zs3)\n",
    "faces3 = generate_mesh_faces(len(points3))\n",
    "print(coorx3, coory3, coorz3)\n",
    "print(normal3)\n",
    "# points3, norm3 = rotate(points3, normal1, points2[:,:3], normal2)\n",
    "# print(\"before transition : \", coorx2, coory2, coorz2)\n",
    "# points2, coorx2, coory2, coorz2 = transition(points1, coorx1, coory1, coorz1, points2[:,:3], coorx2, coory2, coorz2)\n",
    "# print(\"after transition : \", coorx2, coory2, coorz2)"
   ]
  },
  {
   "cell_type": "code",
   "execution_count": 23,
   "metadata": {
    "colab": {
     "base_uri": "https://localhost:8080/",
     "height": 542
    },
    "executionInfo": {
     "elapsed": 305,
     "status": "ok",
     "timestamp": 1680869015735,
     "user": {
      "displayName": "태진김",
      "userId": "07364981126465364779"
     },
     "user_tz": -540
    },
    "id": "pnfbDibxlJU7",
    "outputId": "2fa2af5d-1c30-4e92-d448-4738ac8b43ff"
   },
   "outputs": [
    {
     "data": {
      "text/html": [
       "<html>\n",
       "<head><meta charset=\"utf-8\" /></head>\n",
       "<body>\n",
       "    <div>            <script src=\"https://cdnjs.cloudflare.com/ajax/libs/mathjax/2.7.5/MathJax.js?config=TeX-AMS-MML_SVG\"></script><script type=\"text/javascript\">if (window.MathJax && window.MathJax.Hub && window.MathJax.Hub.Config) {window.MathJax.Hub.Config({SVG: {font: \"STIX-Web\"}});}</script>                <script type=\"text/javascript\">window.PlotlyConfig = {MathJaxConfig: 'local'};</script>\n",
       "        <script src=\"https://cdn.plot.ly/plotly-2.18.2.min.js\"></script>                <div id=\"9c14926c-ed08-4513-b6c5-e2cbedb5a3f8\" class=\"plotly-graph-div\" style=\"height:525px; width:100%;\"></div>            <script type=\"text/javascript\">                                    window.PLOTLYENV=window.PLOTLYENV || {};                                    if (document.getElementById(\"9c14926c-ed08-4513-b6c5-e2cbedb5a3f8\")) {                    Plotly.newPlot(                        \"9c14926c-ed08-4513-b6c5-e2cbedb5a3f8\",                        [{\"marker\":{\"color\":\"red\",\"size\":5},\"mode\":\"markers\",\"x\":[-0.28604719586724914],\"y\":[-3.0991155541336277],\"z\":[-0.6788553843753702],\"type\":\"scatter3d\"},{\"anchor\":\"tail\",\"showlegend\":false,\"sizemode\":\"absolute\",\"sizeref\":0.5,\"u\":[-0.0030109814020953664],\"v\":[0.9999907917118429],\"w\":[-0.003057855869386746],\"x\":[-0.28604719586724914],\"y\":[-3.0991155541336277],\"z\":[-0.6788553843753702],\"type\":\"cone\"}],                        {\"scene\":{\"aspectmode\":\"manual\",\"aspectratio\":{\"x\":0.625,\"y\":1,\"z\":0.25},\"xaxis\":{\"title\":{\"text\":\"X\"},\"visible\":true},\"yaxis\":{\"title\":{\"text\":\"Y\"},\"visible\":true},\"zaxis\":{\"title\":{\"text\":\"Z\"},\"visible\":true}},\"template\":{\"data\":{\"histogram2dcontour\":[{\"type\":\"histogram2dcontour\",\"colorbar\":{\"outlinewidth\":0,\"ticks\":\"\"},\"colorscale\":[[0.0,\"#0d0887\"],[0.1111111111111111,\"#46039f\"],[0.2222222222222222,\"#7201a8\"],[0.3333333333333333,\"#9c179e\"],[0.4444444444444444,\"#bd3786\"],[0.5555555555555556,\"#d8576b\"],[0.6666666666666666,\"#ed7953\"],[0.7777777777777778,\"#fb9f3a\"],[0.8888888888888888,\"#fdca26\"],[1.0,\"#f0f921\"]]}],\"choropleth\":[{\"type\":\"choropleth\",\"colorbar\":{\"outlinewidth\":0,\"ticks\":\"\"}}],\"histogram2d\":[{\"type\":\"histogram2d\",\"colorbar\":{\"outlinewidth\":0,\"ticks\":\"\"},\"colorscale\":[[0.0,\"#0d0887\"],[0.1111111111111111,\"#46039f\"],[0.2222222222222222,\"#7201a8\"],[0.3333333333333333,\"#9c179e\"],[0.4444444444444444,\"#bd3786\"],[0.5555555555555556,\"#d8576b\"],[0.6666666666666666,\"#ed7953\"],[0.7777777777777778,\"#fb9f3a\"],[0.8888888888888888,\"#fdca26\"],[1.0,\"#f0f921\"]]}],\"heatmap\":[{\"type\":\"heatmap\",\"colorbar\":{\"outlinewidth\":0,\"ticks\":\"\"},\"colorscale\":[[0.0,\"#0d0887\"],[0.1111111111111111,\"#46039f\"],[0.2222222222222222,\"#7201a8\"],[0.3333333333333333,\"#9c179e\"],[0.4444444444444444,\"#bd3786\"],[0.5555555555555556,\"#d8576b\"],[0.6666666666666666,\"#ed7953\"],[0.7777777777777778,\"#fb9f3a\"],[0.8888888888888888,\"#fdca26\"],[1.0,\"#f0f921\"]]}],\"heatmapgl\":[{\"type\":\"heatmapgl\",\"colorbar\":{\"outlinewidth\":0,\"ticks\":\"\"},\"colorscale\":[[0.0,\"#0d0887\"],[0.1111111111111111,\"#46039f\"],[0.2222222222222222,\"#7201a8\"],[0.3333333333333333,\"#9c179e\"],[0.4444444444444444,\"#bd3786\"],[0.5555555555555556,\"#d8576b\"],[0.6666666666666666,\"#ed7953\"],[0.7777777777777778,\"#fb9f3a\"],[0.8888888888888888,\"#fdca26\"],[1.0,\"#f0f921\"]]}],\"contourcarpet\":[{\"type\":\"contourcarpet\",\"colorbar\":{\"outlinewidth\":0,\"ticks\":\"\"}}],\"contour\":[{\"type\":\"contour\",\"colorbar\":{\"outlinewidth\":0,\"ticks\":\"\"},\"colorscale\":[[0.0,\"#0d0887\"],[0.1111111111111111,\"#46039f\"],[0.2222222222222222,\"#7201a8\"],[0.3333333333333333,\"#9c179e\"],[0.4444444444444444,\"#bd3786\"],[0.5555555555555556,\"#d8576b\"],[0.6666666666666666,\"#ed7953\"],[0.7777777777777778,\"#fb9f3a\"],[0.8888888888888888,\"#fdca26\"],[1.0,\"#f0f921\"]]}],\"surface\":[{\"type\":\"surface\",\"colorbar\":{\"outlinewidth\":0,\"ticks\":\"\"},\"colorscale\":[[0.0,\"#0d0887\"],[0.1111111111111111,\"#46039f\"],[0.2222222222222222,\"#7201a8\"],[0.3333333333333333,\"#9c179e\"],[0.4444444444444444,\"#bd3786\"],[0.5555555555555556,\"#d8576b\"],[0.6666666666666666,\"#ed7953\"],[0.7777777777777778,\"#fb9f3a\"],[0.8888888888888888,\"#fdca26\"],[1.0,\"#f0f921\"]]}],\"mesh3d\":[{\"type\":\"mesh3d\",\"colorbar\":{\"outlinewidth\":0,\"ticks\":\"\"}}],\"scatter\":[{\"fillpattern\":{\"fillmode\":\"overlay\",\"size\":10,\"solidity\":0.2},\"type\":\"scatter\"}],\"parcoords\":[{\"type\":\"parcoords\",\"line\":{\"colorbar\":{\"outlinewidth\":0,\"ticks\":\"\"}}}],\"scatterpolargl\":[{\"type\":\"scatterpolargl\",\"marker\":{\"colorbar\":{\"outlinewidth\":0,\"ticks\":\"\"}}}],\"bar\":[{\"error_x\":{\"color\":\"#2a3f5f\"},\"error_y\":{\"color\":\"#2a3f5f\"},\"marker\":{\"line\":{\"color\":\"#E5ECF6\",\"width\":0.5},\"pattern\":{\"fillmode\":\"overlay\",\"size\":10,\"solidity\":0.2}},\"type\":\"bar\"}],\"scattergeo\":[{\"type\":\"scattergeo\",\"marker\":{\"colorbar\":{\"outlinewidth\":0,\"ticks\":\"\"}}}],\"scatterpolar\":[{\"type\":\"scatterpolar\",\"marker\":{\"colorbar\":{\"outlinewidth\":0,\"ticks\":\"\"}}}],\"histogram\":[{\"marker\":{\"pattern\":{\"fillmode\":\"overlay\",\"size\":10,\"solidity\":0.2}},\"type\":\"histogram\"}],\"scattergl\":[{\"type\":\"scattergl\",\"marker\":{\"colorbar\":{\"outlinewidth\":0,\"ticks\":\"\"}}}],\"scatter3d\":[{\"type\":\"scatter3d\",\"line\":{\"colorbar\":{\"outlinewidth\":0,\"ticks\":\"\"}},\"marker\":{\"colorbar\":{\"outlinewidth\":0,\"ticks\":\"\"}}}],\"scattermapbox\":[{\"type\":\"scattermapbox\",\"marker\":{\"colorbar\":{\"outlinewidth\":0,\"ticks\":\"\"}}}],\"scatterternary\":[{\"type\":\"scatterternary\",\"marker\":{\"colorbar\":{\"outlinewidth\":0,\"ticks\":\"\"}}}],\"scattercarpet\":[{\"type\":\"scattercarpet\",\"marker\":{\"colorbar\":{\"outlinewidth\":0,\"ticks\":\"\"}}}],\"carpet\":[{\"aaxis\":{\"endlinecolor\":\"#2a3f5f\",\"gridcolor\":\"white\",\"linecolor\":\"white\",\"minorgridcolor\":\"white\",\"startlinecolor\":\"#2a3f5f\"},\"baxis\":{\"endlinecolor\":\"#2a3f5f\",\"gridcolor\":\"white\",\"linecolor\":\"white\",\"minorgridcolor\":\"white\",\"startlinecolor\":\"#2a3f5f\"},\"type\":\"carpet\"}],\"table\":[{\"cells\":{\"fill\":{\"color\":\"#EBF0F8\"},\"line\":{\"color\":\"white\"}},\"header\":{\"fill\":{\"color\":\"#C8D4E3\"},\"line\":{\"color\":\"white\"}},\"type\":\"table\"}],\"barpolar\":[{\"marker\":{\"line\":{\"color\":\"#E5ECF6\",\"width\":0.5},\"pattern\":{\"fillmode\":\"overlay\",\"size\":10,\"solidity\":0.2}},\"type\":\"barpolar\"}],\"pie\":[{\"automargin\":true,\"type\":\"pie\"}]},\"layout\":{\"autotypenumbers\":\"strict\",\"colorway\":[\"#636efa\",\"#EF553B\",\"#00cc96\",\"#ab63fa\",\"#FFA15A\",\"#19d3f3\",\"#FF6692\",\"#B6E880\",\"#FF97FF\",\"#FECB52\"],\"font\":{\"color\":\"#2a3f5f\"},\"hovermode\":\"closest\",\"hoverlabel\":{\"align\":\"left\"},\"paper_bgcolor\":\"white\",\"plot_bgcolor\":\"#E5ECF6\",\"polar\":{\"bgcolor\":\"#E5ECF6\",\"angularaxis\":{\"gridcolor\":\"white\",\"linecolor\":\"white\",\"ticks\":\"\"},\"radialaxis\":{\"gridcolor\":\"white\",\"linecolor\":\"white\",\"ticks\":\"\"}},\"ternary\":{\"bgcolor\":\"#E5ECF6\",\"aaxis\":{\"gridcolor\":\"white\",\"linecolor\":\"white\",\"ticks\":\"\"},\"baxis\":{\"gridcolor\":\"white\",\"linecolor\":\"white\",\"ticks\":\"\"},\"caxis\":{\"gridcolor\":\"white\",\"linecolor\":\"white\",\"ticks\":\"\"}},\"coloraxis\":{\"colorbar\":{\"outlinewidth\":0,\"ticks\":\"\"}},\"colorscale\":{\"sequential\":[[0.0,\"#0d0887\"],[0.1111111111111111,\"#46039f\"],[0.2222222222222222,\"#7201a8\"],[0.3333333333333333,\"#9c179e\"],[0.4444444444444444,\"#bd3786\"],[0.5555555555555556,\"#d8576b\"],[0.6666666666666666,\"#ed7953\"],[0.7777777777777778,\"#fb9f3a\"],[0.8888888888888888,\"#fdca26\"],[1.0,\"#f0f921\"]],\"sequentialminus\":[[0.0,\"#0d0887\"],[0.1111111111111111,\"#46039f\"],[0.2222222222222222,\"#7201a8\"],[0.3333333333333333,\"#9c179e\"],[0.4444444444444444,\"#bd3786\"],[0.5555555555555556,\"#d8576b\"],[0.6666666666666666,\"#ed7953\"],[0.7777777777777778,\"#fb9f3a\"],[0.8888888888888888,\"#fdca26\"],[1.0,\"#f0f921\"]],\"diverging\":[[0,\"#8e0152\"],[0.1,\"#c51b7d\"],[0.2,\"#de77ae\"],[0.3,\"#f1b6da\"],[0.4,\"#fde0ef\"],[0.5,\"#f7f7f7\"],[0.6,\"#e6f5d0\"],[0.7,\"#b8e186\"],[0.8,\"#7fbc41\"],[0.9,\"#4d9221\"],[1,\"#276419\"]]},\"xaxis\":{\"gridcolor\":\"white\",\"linecolor\":\"white\",\"ticks\":\"\",\"title\":{\"standoff\":15},\"zerolinecolor\":\"white\",\"automargin\":true,\"zerolinewidth\":2},\"yaxis\":{\"gridcolor\":\"white\",\"linecolor\":\"white\",\"ticks\":\"\",\"title\":{\"standoff\":15},\"zerolinecolor\":\"white\",\"automargin\":true,\"zerolinewidth\":2},\"scene\":{\"xaxis\":{\"backgroundcolor\":\"#E5ECF6\",\"gridcolor\":\"white\",\"linecolor\":\"white\",\"showbackground\":true,\"ticks\":\"\",\"zerolinecolor\":\"white\",\"gridwidth\":2},\"yaxis\":{\"backgroundcolor\":\"#E5ECF6\",\"gridcolor\":\"white\",\"linecolor\":\"white\",\"showbackground\":true,\"ticks\":\"\",\"zerolinecolor\":\"white\",\"gridwidth\":2},\"zaxis\":{\"backgroundcolor\":\"#E5ECF6\",\"gridcolor\":\"white\",\"linecolor\":\"white\",\"showbackground\":true,\"ticks\":\"\",\"zerolinecolor\":\"white\",\"gridwidth\":2}},\"shapedefaults\":{\"line\":{\"color\":\"#2a3f5f\"}},\"annotationdefaults\":{\"arrowcolor\":\"#2a3f5f\",\"arrowhead\":0,\"arrowwidth\":1},\"geo\":{\"bgcolor\":\"white\",\"landcolor\":\"#E5ECF6\",\"subunitcolor\":\"white\",\"showland\":true,\"showlakes\":true,\"lakecolor\":\"white\"},\"title\":{\"x\":0.05},\"mapbox\":{\"style\":\"light\"}}}},                        {\"responsive\": true}                    ).then(function(){\n",
       "                            \n",
       "var gd = document.getElementById('9c14926c-ed08-4513-b6c5-e2cbedb5a3f8');\n",
       "var x = new MutationObserver(function (mutations, observer) {{\n",
       "        var display = window.getComputedStyle(gd).display;\n",
       "        if (!display || display === 'none') {{\n",
       "            console.log([gd, 'removed!']);\n",
       "            Plotly.purge(gd);\n",
       "            observer.disconnect();\n",
       "        }}\n",
       "}});\n",
       "\n",
       "// Listen for the removal of the full notebook cells\n",
       "var notebookContainer = gd.closest('#notebook-container');\n",
       "if (notebookContainer) {{\n",
       "    x.observe(notebookContainer, {childList: true});\n",
       "}}\n",
       "\n",
       "// Listen for the clearing of the current output cell\n",
       "var outputEl = gd.closest('.output');\n",
       "if (outputEl) {{\n",
       "    x.observe(outputEl, {childList: true});\n",
       "}}\n",
       "\n",
       "                        })                };                            </script>        </div>\n",
       "</body>\n",
       "</html>"
      ]
     },
     "metadata": {},
     "output_type": "display_data"
    }
   ],
   "source": [
    "Mesh1 = go.Mesh3d(\n",
    "            x=points1[:,0],\n",
    "            y=points1[:,1],\n",
    "            z=points1[:,2],\n",
    "            i=faces1[:,0],\n",
    "            j=faces1[:,1],\n",
    "            k=faces1[:,2],\n",
    "            )\n",
    "Mesh2 = go.Mesh3d(\n",
    "                 x=points2[:,0],\n",
    "                 y=points2[:,1],\n",
    "                 z=points2[:,2],\n",
    "                 i=faces2[:,0],\n",
    "                 j=faces2[:,1],\n",
    "                 k=faces2[:,2],\n",
    "                 )\n",
    "fig = go.Figure( # Mesh1, Mesh2 빼놓음\n",
    "    data=[\n",
    "        # # Room1\n",
    "        go.Scatter3d(\n",
    "            x=[coorx1],\n",
    "            y=[coory1],\n",
    "            z=[coorz1],\n",
    "            mode='markers',\n",
    "            marker=dict(\n",
    "                size=5,\n",
    "                color='red'\n",
    "            )\n",
    "        ),\n",
    "         go.Cone(x=[coorx1], y=[coory1], z=[coorz1],\n",
    "                 u=[normal1[0]], v=[normal1[1]], w=[normal1[2]],\n",
    "                 sizemode='absolute', sizeref=0.5,\n",
    "                 anchor='tail', showlegend=False)\n",
    "        # #  Room2\n",
    "        #  \n",
    "        #      go.Scatter3d(\n",
    "        #          x=[coorx2],\n",
    "        #          y=[coory2],\n",
    "        #          z=[coorz2],\n",
    "        #          mode='markers',\n",
    "        #          marker=dict(\n",
    "        #              size=5,\n",
    "        #              color='red'\n",
    "        #          )\n",
    "        #      ),\n",
    "        #      go.Cone(x=[coorx2], y=[coory2], z=[coorz2],\n",
    "        #              u=[normal2[0]], v=[normal2[1]], w=[normal2[2]],\n",
    "        #              sizemode='absolute', sizeref=0.5,\n",
    "        #              anchor='tail', showlegend=False),\n",
    "        #   # #  Room3\n",
    "        #  go.Mesh3d(\n",
    "        #          x=points3[:,0],\n",
    "        #          y=points3[:,1],\n",
    "        #          z=points3[:,2],\n",
    "        #          i=faces3[:,0],\n",
    "        #          j=faces3[:,1],\n",
    "        #          k=faces3[:,2],\n",
    "        #          facecolor=room3_points[:,3:][room3_faces[:,0]]\n",
    "        #      ),\n",
    "        #      go.Scatter3d(\n",
    "        #          x=[coorx3],\n",
    "        #          y=[coory3],\n",
    "        #          z=[coorz3],\n",
    "        #          mode='markers',\n",
    "        #          marker=dict(\n",
    "        #              size=5,\n",
    "        #              color='red'\n",
    "        #          )\n",
    "        #      ),\n",
    "        #      go.Cone(x=[coorx3], y=[coory3], z=[coorz3],\n",
    "        #              u=[normal3[0]], v=[normal3[1]], w=[normal3[2]],\n",
    "        #              sizemode='absolute', sizeref=0.5,\n",
    "        #              anchor='tail', showlegend=False)\n",
    "        ],\n",
    "    layout=dict(\n",
    "        scene=dict(\n",
    "            xaxis=dict(title='X', visible=True),\n",
    "            yaxis=dict(title='Y', visible=True),\n",
    "            zaxis=dict(title='Z', visible=True),\n",
    "            aspectmode=\"manual\",\n",
    "            aspectratio=dict(x=0.625, y=1, z=0.25),\n",
    "\n",
    "        )\n",
    "    )\n",
    ")\n",
    "fig.show()"
   ]
  },
  {
   "cell_type": "code",
   "execution_count": 24,
   "metadata": {
    "executionInfo": {
     "elapsed": 283,
     "status": "ok",
     "timestamp": 1680869023240,
     "user": {
      "displayName": "태진김",
      "userId": "07364981126465364779"
     },
     "user_tz": -540
    },
    "id": "sF49ggqhUDzH"
   },
   "outputs": [],
   "source": [
    "def transform_open3d(plotly_mesh):\n",
    "  points = np.column_stack((plotly_mesh.x, plotly_mesh.y, plotly_mesh.z))\n",
    "  faces = np.column_stack((plotly_mesh.i, plotly_mesh.j, plotly_mesh.k))\n",
    "  # Prepare vertices and faces\n",
    "  vertices = o3d.utility.Vector3dVector(points[:, :3])\n",
    "  # colors = o3d.utility.Vector3dVector(points[:, 3:] / 255.0)\n",
    "  triangles = o3d.utility.Vector3iVector(points[:,:3])\n",
    "\n",
    "  # Create mesh object\n",
    "  mesh = o3d.geometry.TriangleMesh()\n",
    "  meshvertices = vertices\n",
    "  # mesh1.vertex_colors = colors\n",
    "  mesh.triangles = triangles\n",
    "  mesh.compute_vertex_normals()\n",
    "  return mesh\n",
    "\n"
   ]
  },
  {
   "cell_type": "code",
   "execution_count": null,
   "metadata": {
    "id": "t2Yy-2jSd2xU"
   },
   "outputs": [],
   "source": [
    "mesh1 = transform_open3d(Mesh1)\n",
    "mesh2 = transform_open3d(Mesh2)\n",
    "\n",
    "\n",
    "\n",
    "# Visualize mesh\n",
    "o3d.visualization.draw_plotly([mesh2])"
   ]
  },
  {
   "cell_type": "code",
   "execution_count": null,
   "metadata": {
    "executionInfo": {
     "elapsed": 6,
     "status": "aborted",
     "timestamp": 1680868948859,
     "user": {
      "displayName": "태진김",
      "userId": "07364981126465364779"
     },
     "user_tz": -540
    },
    "id": "-A6hXKIIjWTo"
   },
   "outputs": [],
   "source": []
  }
 ],
 "metadata": {
  "colab": {
   "provenance": [
    {
     "file_id": "1EcEiivuU5zfJuifSmuA-l2_XyOlzmmgD",
     "timestamp": 1680861859904
    }
   ]
  },
  "kernelspec": {
   "display_name": "Python 3 (ipykernel)",
   "language": "python",
   "name": "python3"
  },
  "language_info": {
   "codemirror_mode": {
    "name": "ipython",
    "version": 3
   },
   "file_extension": ".py",
   "mimetype": "text/x-python",
   "name": "python",
   "nbconvert_exporter": "python",
   "pygments_lexer": "ipython3",
   "version": "3.10.10"
  }
 },
 "nbformat": 4,
 "nbformat_minor": 4
}
