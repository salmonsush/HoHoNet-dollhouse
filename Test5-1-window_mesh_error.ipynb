{
 "cells": [
  {
   "attachments": {},
   "cell_type": "markdown",
   "metadata": {},
   "source": [
    "## corid를 이용해 꼭짓점들만 plotly를 활용해 출력해보았는데, 잘 나오지 않음.\n",
    "또한, open3d mesh로 변환하는 과정에서 런타임이 다운됨. 맨아래 두 셀에서 이 두가지 결함을 확인 가능."
   ]
  },
  {
   "cell_type": "code",
   "execution_count": 1,
   "metadata": {
    "tags": []
   },
   "outputs": [
    {
     "name": "stdout",
     "output_type": "stream",
     "text": [
      "# conda environments:\n",
      "#\n",
      "base                     C:\\Dev\\Miniconda\n",
      "FreDS                    C:\\Dev\\Miniconda\\envs\\FreDS\n",
      "depth_1.7                C:\\Dev\\Miniconda\\envs\\depth_1.7\n",
      "firstvenv                C:\\Dev\\Miniconda\\envs\\firstvenv\n",
      "hoho                  *  C:\\Dev\\Miniconda\\envs\\hoho\n",
      "o3d                      C:\\Dev\\Miniconda\\envs\\o3d\n",
      "panoformer               C:\\Dev\\Miniconda\\envs\\panoformer\n",
      "\n"
     ]
    }
   ],
   "source": [
    "!conda env list"
   ]
  },
  {
   "cell_type": "code",
   "execution_count": 2,
   "metadata": {},
   "outputs": [],
   "source": [
    "# !conda activate hoho"
   ]
  },
  {
   "cell_type": "code",
   "execution_count": 4,
   "metadata": {
    "executionInfo": {
     "elapsed": 3293,
     "status": "ok",
     "timestamp": 1680868904877,
     "user": {
      "displayName": "태진김",
      "userId": "07364981126465364779"
     },
     "user_tz": -540
    },
    "id": "uz6AvDD9lJUl",
    "tags": []
   },
   "outputs": [],
   "source": [
    "import os, sys, time\n",
    "import argparse\n",
    "import importlib\n",
    "from tqdm.notebook import tqdm\n",
    "# from imageio import imread\n",
    "import torch\n",
    "import numpy as np\n",
    "import matplotlib.pyplot as plt\n",
    "import cv2\n"
   ]
  },
  {
   "cell_type": "markdown",
   "metadata": {
    "id": "BL-SkWMAlJUn"
   },
   "source": [
    "### Download pretrained\n",
    "- We use HoHoNet w/ hardnet encoder in this demo\n",
    "- Download other version [here](https://drive.google.com/drive/folders/1raT3vRXnQXRAQuYq36dE-93xFc_hgkTQ?usp=sharing)"
   ]
  },
  {
   "cell_type": "markdown",
   "metadata": {
    "id": "ZBnhIVOclJUv"
   },
   "source": [
    "### Load model config\n",
    "- We use HoHoNet w/ hardnet encoder in this demo\n",
    "- Find out other version in `mp3d_depth/` and `s2d3d_depth`"
   ]
  },
  {
   "cell_type": "code",
   "execution_count": 5,
   "metadata": {
    "executionInfo": {
     "elapsed": 539,
     "status": "ok",
     "timestamp": 1680868905413,
     "user": {
      "displayName": "태진김",
      "userId": "07364981126465364779"
     },
     "user_tz": -540
    },
    "id": "xazFaTyzlJUw",
    "tags": []
   },
   "outputs": [],
   "source": [
    "from lib.config import config\n",
    "\n",
    "config.defrost()\n",
    "config.merge_from_file('config/mp3d_layout/HOHO_layout_aug_efficienthc_Transen1_resnet34.yaml')\n",
    "config.freeze()"
   ]
  },
  {
   "cell_type": "markdown",
   "metadata": {
    "id": "hNBpZEjJlJUx"
   },
   "source": [
    "### Load model"
   ]
  },
  {
   "cell_type": "code",
   "execution_count": 6,
   "metadata": {
    "colab": {
     "base_uri": "https://localhost:8080/"
    },
    "executionInfo": {
     "elapsed": 1787,
     "status": "ok",
     "timestamp": 1680868907196,
     "user": {
      "displayName": "태진김",
      "userId": "07364981126465364779"
     },
     "user_tz": -540
    },
    "id": "zF31NxNflJUy",
    "outputId": "b56e2885-348b-4ad3-977d-7e0a428f8021",
    "tags": []
   },
   "outputs": [
    {
     "name": "stdout",
     "output_type": "stream",
     "text": [
      "devcie: cpu\n"
     ]
    },
    {
     "name": "stderr",
     "output_type": "stream",
     "text": [
      "c:\\Dev\\Miniconda\\envs\\hoho\\lib\\site-packages\\torchvision\\models\\_utils.py:208: UserWarning: The parameter 'pretrained' is deprecated since 0.13 and may be removed in the future, please use 'weights' instead.\n",
      "  warnings.warn(\n",
      "c:\\Dev\\Miniconda\\envs\\hoho\\lib\\site-packages\\torchvision\\models\\_utils.py:223: UserWarning: Arguments other than a weight enum or `None` for 'weights' are deprecated since 0.13 and may be removed in the future. The current behavior is equivalent to passing `weights=ResNet34_Weights.IMAGENET1K_V1`. You can also use `weights=ResNet34_Weights.DEFAULT` to get the most up-to-date weights.\n",
      "  warnings.warn(msg)\n"
     ]
    }
   ],
   "source": [
    "device = 'cuda' if torch.cuda.is_available() else 'cpu'\n",
    "print('devcie:', device)\n",
    "PRETRAINED_PTH = 'ckpt/mp3d_layout_HOHO_layout_aug_efficienthc_Transen1_resnet34/ep300.pth'\n",
    "\n",
    "model_file = importlib.import_module(config.model.file)\n",
    "model_class = getattr(model_file, config.model.modelclass)\n",
    "net = model_class(**config.model.kwargs)\n",
    "net.load_state_dict(torch.load(PRETRAINED_PTH, map_location=device))\n",
    "net = net.eval().to(device)"
   ]
  },
  {
   "cell_type": "markdown",
   "metadata": {
    "id": "4m_M7pIHo4mK"
   },
   "source": [
    "### Load image"
   ]
  },
  {
   "cell_type": "code",
   "execution_count": 7,
   "metadata": {
    "colab": {
     "base_uri": "https://localhost:8080/"
    },
    "executionInfo": {
     "elapsed": 1395,
     "status": "ok",
     "timestamp": 1680868908589,
     "user": {
      "displayName": "태진김",
      "userId": "07364981126465364779"
     },
     "user_tz": -540
    },
    "id": "YiaZBpbBlJUt",
    "outputId": "0827dc2d-b0b2-4f1e-e982-ed016d1f52d1",
    "tags": []
   },
   "outputs": [],
   "source": [
    "rgb1 = cv2.imread('./assets/006/44304216_.png')\n",
    "\n",
    "# plt.imshow(rgb1)\n",
    "# plt.show()\n",
    "rgb1 = cv2.resize(rgb1, (1024, 512), interpolation=cv2.INTER_LINEAR)\n"
   ]
  },
  {
   "cell_type": "code",
   "execution_count": 8,
   "metadata": {
    "colab": {
     "base_uri": "https://localhost:8080/"
    },
    "executionInfo": {
     "elapsed": 408,
     "status": "ok",
     "timestamp": 1680868908992,
     "user": {
      "displayName": "태진김",
      "userId": "07364981126465364779"
     },
     "user_tz": -540
    },
    "id": "IBTLOxgByGZO",
    "outputId": "63bf1196-ce8e-46c0-bddf-3a04d2fdf041",
    "tags": []
   },
   "outputs": [],
   "source": [
    "rgb2 = cv2.imread('./assets/006/4898.png')\n",
    "\n",
    "# plt.imshow(rgb2)/\n",
    "# plt.show()\n",
    "rgb2 = cv2.resize(rgb2, (1024, 512), interpolation=cv2.INTER_LINEAR) # 문좌표 135,480\n"
   ]
  },
  {
   "cell_type": "code",
   "execution_count": 9,
   "metadata": {
    "colab": {
     "base_uri": "https://localhost:8080/"
    },
    "executionInfo": {
     "elapsed": 1053,
     "status": "ok",
     "timestamp": 1680868982798,
     "user": {
      "displayName": "태진김",
      "userId": "07364981126465364779"
     },
     "user_tz": -540
    },
    "id": "5uB2AD-AMMAN",
    "outputId": "3f2a316e-d1f4-42b0-82de-8d865b47c54c",
    "tags": []
   },
   "outputs": [],
   "source": [
    "rgb3 = cv2.imread('./assets/006/4955.png')                                                                                   # 3버어어어어ㅓ언어ㅓ엉ㄴ\n",
    "\n",
    "# plt.imshow(rgb2)/\n",
    "# plt.show()\n",
    "rgb3 = cv2.resize(rgb3, (1024, 512), interpolation=cv2.INTER_LINEAR) # 문좌표 135,480\n"
   ]
  },
  {
   "cell_type": "code",
   "execution_count": 10,
   "metadata": {
    "executionInfo": {
     "elapsed": 3409,
     "status": "ok",
     "timestamp": 1680868913964,
     "user": {
      "displayName": "태진김",
      "userId": "07364981126465364779"
     },
     "user_tz": -540
    },
    "id": "lVVio6_dpD7W",
    "tags": []
   },
   "outputs": [
    {
     "name": "stdout",
     "output_type": "stream",
     "text": [
      "Jupyter environment detected. Enabling Open3D WebVisualizer.\n",
      "[Open3D INFO] WebRTC GUI backend enabled.\n",
      "[Open3D INFO] WebRTCWindowSystem: HTTP handshake server disabled.\n"
     ]
    }
   ],
   "source": [
    "import open3d as o3d\n",
    "import plotly.graph_objects as go\n",
    "from scipy.signal import correlate2d\n",
    "from scipy.ndimage import shift\n",
    "from skimage.transform import resize\n",
    "from eval_layout import layout_2_depth\n",
    "from lib.misc.post_proc import np_coor2xy, np_coorx2u, np_coory2v\n",
    "\n",
    "def Infer(rgb, door_x, door_y, net):\n",
    "    \"\"\"\n",
    "    infer and exports point and faces and resized point of door.\n",
    "    output:{\n",
    "      points : all the spherical-coordinate(x,y,z) of 131528 points(shape: 131528,3) on the image, \n",
    "      faces : all the 3-indices(i,j,k) of vertex for each  260000 faces, \n",
    "      cor_id : 3-coordinate(x,y,z) of cor_id, the vertices of layout i.e 12, (2x6) points, \n",
    "      door_x_resized : resized x-coordinate of door point, \n",
    "      door_y_resized : resized y-coordinate of door point, \n",
    "      xs : spherical-coordinate(x) of 131528 points(shape: 256,513), \n",
    "      ys : spherical-coordinate(y) of 131528 points(shape: 256,513),\n",
    "      zs : spherical-coordinate(z) of 131528 points(shape: 256,513)\n",
    "    }\n",
    "    \"\"\"\n",
    "    # Move image into tensor, normalize to [0,255], resize to 512x1024\n",
    "    device = torch.device('cuda' if torch.cuda.is_available() else 'cpu')\n",
    "    x = torch.from_numpy(rgb).permute(2,0,1)[None].float() / 255.\n",
    "    if x.shape[2:] != (512, 1024):\n",
    "        x = torch.nn.functional.interpolate(x, size=(512, 1024), mode='area')\n",
    "        print(\"fitting\")\n",
    "    x = x.to(device)\n",
    "    \n",
    "    # Model feedforward\n",
    "    with torch.no_grad():\n",
    "        ts = time.time()\n",
    "        layout = net.infer(x)\n",
    "        if torch.cuda.is_available():\n",
    "            torch.cuda.synchronize()\n",
    "        print(f'Eps time: {time.time() - ts:.2f} sec.')\n",
    "\n",
    "    cor_id = layout['cor_id']\n",
    "    y_bon_ = layout['y_bon_']\n",
    "    y_cor_ = layout['y_cor_']\n",
    "\n",
    "    # source code\n",
    "    H, W = 256, 512\n",
    "\n",
    "    # resize door coordinate from 512x1024 to 256x512\n",
    "    door_x_resized = int(door_x*(W/1024))\n",
    "    door_y_resized = int(door_y*(H/512))\n",
    "    print(door_x, door_y)\n",
    "\n",
    "\n",
    "    ignore_floor = False\n",
    "    ignore_ceiling = False\n",
    "    ignore_wall = False\n",
    "\n",
    "    # Convert corners to layout\n",
    "    depth, floor_mask, ceil_mask, wall_mask = [\n",
    "        resize(v, [H, W], order=0, preserve_range=True).astype(v.dtype)\n",
    "        for v in layout_2_depth(cor_id, *rgb.shape[:2], return_mask=True)]\n",
    "\n",
    "    cor_id[:,0] = (cor_id[:,0] * (256/512)).astype(int)\n",
    "    cor_id[:,1] = (cor_id[:,1] * (512/1024)).astype(int)\n",
    "    cor_id = cor_id[:,::-1].astype(int)\n",
    "\n",
    "    # 빈 좌표계 만들어주기\n",
    "    coorx, coory = np.meshgrid(np.arange(W), np.arange(H)) #256,512\n",
    "    # 구면좌표계로 변환\n",
    "    us = -1 * np_coorx2u(coorx, W) # -pi ~ pi\n",
    "    vs = np_coory2v(coory, H) # -1/2*pi ~ 1/2*pi\n",
    "    zs = depth * np.sin(vs) \n",
    "    cs = depth * np.cos(vs)\n",
    "    xs = cs * np.sin(us)\n",
    "    ys = -cs * np.cos(us) # 전부다 사이즈 256.512\n",
    "\n",
    "    # Aggregate mask\n",
    "    mask = np.ones_like(floor_mask)\n",
    "    if ignore_floor:\n",
    "        mask &= ~floor_mask\n",
    "    if ignore_ceiling:\n",
    "        mask &= ~ceil_mask\n",
    "    if ignore_wall:\n",
    "        mask &= ~wall_mask\n",
    "\n",
    "    # Prepare ply's points and faces\n",
    "    xyzrgb = np.concatenate([\n",
    "        xs[...,None], ys[...,None], zs[...,None],\n",
    "        resize(rgb, [H, W])], -1)\n",
    "    xyzrgb = np.concatenate([xyzrgb, xyzrgb[:,[0]]], 1) # 수평선으로 폐쇄된 mesh를 만들기 위한 것.\n",
    "\n",
    "    mask = np.concatenate([mask, mask[:,[0]]], 1)\n",
    "\n",
    "    lo_tri_template = np.array([\n",
    "        [0, 0, 0],\n",
    "        [0, 1, 0],\n",
    "        [0, 1, 1]])\n",
    "    up_tri_template = np.array([\n",
    "        [0, 0, 0],\n",
    "        [0, 1, 1],\n",
    "        [0, 0, 1]])\n",
    "    ma_tri_template = np.array([\n",
    "        [0, 0, 0],\n",
    "        [0, 1, 1],\n",
    "        [0, 1, 0]])\n",
    "    lo_mask = (correlate2d(mask, lo_tri_template, mode='same') == 3)\n",
    "    up_mask = (correlate2d(mask, up_tri_template, mode='same') == 3)\n",
    "    ma_mask = (correlate2d(mask, ma_tri_template, mode='same') == 3) & (~lo_mask) & (~up_mask)\n",
    "    ref_mask = (\n",
    "        lo_mask | (correlate2d(lo_mask, np.flip(lo_tri_template, (0,1)), mode='same') > 0) |\\\n",
    "        up_mask | (correlate2d(up_mask, np.flip(up_tri_template, (0,1)), mode='same') > 0) |\\\n",
    "        ma_mask | (correlate2d(ma_mask, np.flip(ma_tri_template, (0,1)), mode='same') > 0)\n",
    "    ) # ref_mask : 256x513\n",
    "    points = xyzrgb[ref_mask]\n",
    "    ref_id = np.full(ref_mask.shape, -1, np.int32)\n",
    "    ref_id[ref_mask] = np.arange(ref_mask.sum())\n",
    "\n",
    "    faces_lo_tri = np.stack([\n",
    "        ref_id[lo_mask],\n",
    "        ref_id[shift(lo_mask, [1, 0], cval=False, order=0)],\n",
    "        ref_id[shift(lo_mask, [1, 1], cval=False, order=0)],\n",
    "    ], 1)\n",
    "    faces_up_tri = np.stack([\n",
    "        ref_id[up_mask],\n",
    "        ref_id[shift(up_mask, [1, 1], cval=False, order=0)],\n",
    "        ref_id[shift(up_mask, [0, 1], cval=False, order=0)],\n",
    "    ], 1)\n",
    "    faces_ma_tri = np.stack([\n",
    "        ref_id[ma_mask],\n",
    "        ref_id[shift(ma_mask, [1, 0], cval=False, order=0)],\n",
    "        ref_id[shift(ma_mask, [0, 1], cval=False, order=0)],\n",
    "    ], 1)\n",
    "    faces = np.concatenate([faces_lo_tri, faces_up_tri, faces_ma_tri])\n",
    "\n",
    "    return cor_id, door_x_resized, door_y_resized, us, vs, xs, ys, zs\n",
    "\n",
    "def get_vertices(cor_id, xs, ys, zs):\n",
    "    cor_id = cor_id.tolist()\n",
    "    points = np.empty((0, 3))\n",
    "    for point in cor_id:\n",
    "        x = xs[point[0], point[1]]\n",
    "        y = ys[point[0], point[1]]\n",
    "        z = zs[point[0], point[1]]\n",
    "        points = np.vstack((points, np.array([x, y, z])))\n",
    "    return points\n",
    "\n",
    "def Getdoor(x, y, xs, ys, zs):\n",
    "    door_coorx = xs[x, y]\n",
    "    door_coory = ys[x, y]\n",
    "    door_coorz = zs[x, y]\n",
    "    vertex_i = np.array([door_coorx, door_coory, door_coorz])\n",
    "\n",
    "    door_coorx = xs[x, y-1]\n",
    "    door_coory = ys[x, y-1]\n",
    "    door_coorz = zs[x, y-1]\n",
    "    vertex_j = np.array([door_coorx, door_coory, door_coorz])\n",
    "\n",
    "    door_coorx = xs[x+1, y]\n",
    "    door_coory = ys[x+1, y]\n",
    "    door_coorz = zs[x+1, y]\n",
    "    vertex_k = np.array([door_coorx, door_coory, door_coorz])\n",
    "\n",
    "    door_coorx, door_coory, door_coorz = vertex_i\n",
    "\n",
    "    v1 = np.array(vertex_j) - np.array(vertex_i)\n",
    "    v2 = np.array(vertex_k) - np.array(vertex_i)\n",
    "    normal = np.cross(v1, v2)\n",
    "    normal = normal / np.linalg.norm(normal)\n",
    "    return door_coorx, door_coory, door_coorz, normal"
   ]
  },
  {
   "cell_type": "code",
   "execution_count": 11,
   "metadata": {
    "executionInfo": {
     "elapsed": 12,
     "status": "ok",
     "timestamp": 1680868913965,
     "user": {
      "displayName": "태진김",
      "userId": "07364981126465364779"
     },
     "user_tz": -540
    },
    "id": "UyeSnkCsUMPQ",
    "tags": []
   },
   "outputs": [],
   "source": [
    "def transition(points1, coorx1, coory1, coorz1, points2, coorx2, coory2, coorz2):\n",
    "  trans_matrix = np.array([coorx1, coory1, coorz1])-np.array([coorx2, coory2, coorz2])\n",
    "  points2 = points2+trans_matrix\n",
    "  coorx2 = coorx2+trans_matrix[0]\n",
    "  coory2 = coory2+trans_matrix[1]\n",
    "  coorz2 = coorz2+trans_matrix[2]\n",
    "  return points2, coorx2, coory2, coorz2"
   ]
  },
  {
   "cell_type": "code",
   "execution_count": 12,
   "metadata": {
    "executionInfo": {
     "elapsed": 12,
     "status": "ok",
     "timestamp": 1680868913965,
     "user": {
      "displayName": "태진김",
      "userId": "07364981126465364779"
     },
     "user_tz": -540
    },
    "id": "I3aX4QCSVaoZ",
    "tags": []
   },
   "outputs": [],
   "source": [
    "def rotate(points1, vector1, points2, vector2):\n",
    "    # Define the vectors\n",
    "    vector1 = -vector1\n",
    "    # Calculate the cross product between the two vectors\n",
    "    cross_product = np.cross(vector1, vector2)\n",
    "\n",
    "    # Calculate the dot product between the two vectors\n",
    "    dot_product = np.dot(vector1, vector2)\n",
    "\n",
    "    # Calculate the norm of the cross product\n",
    "    cross_norm = np.linalg.norm(cross_product)\n",
    "\n",
    "    # Calculate the rotation angle\n",
    "    angle = np.arctan2(cross_norm, dot_product)\n",
    "\n",
    "    # Calculate the rotation axis\n",
    "    axis = cross_product / cross_norm\n",
    "\n",
    "    # Create the rotation matrix\n",
    "    rotation_matrix = np.array([[np.cos(angle) + axis[0]**2*(1-np.cos(angle)), \n",
    "                                axis[0]*axis[1]*(1-np.cos(angle)) - axis[2]*np.sin(angle), \n",
    "                                axis[0]*axis[2]*(1-np.cos(angle)) + axis[1]*np.sin(angle)],\n",
    "                                [axis[1]*axis[0]*(1-np.cos(angle)) + axis[2]*np.sin(angle), \n",
    "                                np.cos(angle) + axis[1]**2*(1-np.cos(angle)), \n",
    "                                axis[1]*axis[2]*(1-np.cos(angle)) - axis[0]*np.sin(angle)],\n",
    "                                [axis[2]*axis[0]*(1-np.cos(angle)) - axis[1]*np.sin(angle), \n",
    "                                axis[2]*axis[1]*(1-np.cos(angle)) + axis[0]*np.sin(angle), \n",
    "                                np.cos(angle) + axis[2]**2*(1-np.cos(angle))]])\n",
    "\n",
    "    # Apply the rotation matrix to vector2\n",
    "    new_vector2 = np.dot(rotation_matrix, vector2)\n",
    "\n",
    "    print(\"Original vector1:\", vector1)\n",
    "    print(\"Original vector2:\", vector2)\n",
    "    print(\"Rotated vector2:\", new_vector2)\n",
    "\n",
    "    # Rotate points2 to be the same orientation as points1\n",
    "    new_points2 = np.dot(points2, rotation_matrix)\n",
    "\n",
    "    return new_points2, new_vector2\n"
   ]
  },
  {
   "cell_type": "code",
   "execution_count": 13,
   "metadata": {
    "executionInfo": {
     "elapsed": 12,
     "status": "ok",
     "timestamp": 1680868913965,
     "user": {
      "displayName": "태진김",
      "userId": "07364981126465364779"
     },
     "user_tz": -540
    },
    "id": "dWZT_He3UNTw",
    "tags": []
   },
   "outputs": [],
   "source": [
    "def generate_mesh_faces(n):\n",
    "    i = np.arange(n)\n",
    "    j = np.roll(i, -1)\n",
    "    k = np.roll(i, -2)\n",
    "    faces = np.column_stack((i, j, k))\n",
    "    faces = np.column_stack(faces, )\n",
    "    return faces\n"
   ]
  },
  {
   "cell_type": "code",
   "execution_count": 14,
   "metadata": {
    "colab": {
     "base_uri": "https://localhost:8080/"
    },
    "executionInfo": {
     "elapsed": 6945,
     "status": "ok",
     "timestamp": 1680868920899,
     "user": {
      "displayName": "태진김",
      "userId": "07364981126465364779"
     },
     "user_tz": -540
    },
    "id": "DmhNzCtAq_hX",
    "outputId": "ae1c7953-a8c3-4e8a-f4fc-4bb21f72c076",
    "tags": []
   },
   "outputs": [
    {
     "name": "stdout",
     "output_type": "stream",
     "text": [
      "Eps time: 0.93 sec.\n",
      "290 526\n",
      "-0.26825348017025535 -2.9063334472676785 -0.6366268294953753\n",
      "[-0.0030135   0.99999079 -0.00305509]\n"
     ]
    }
   ],
   "source": [
    "cor_id1, room1_x_resized, room1_y_resized, us1, vs1, xs1, ys1, zs1 = Infer(rgb1, 290, 526, net)\n",
    "points1 = get_vertices(cor_id1, xs1, ys1, zs1)\n",
    "coorx1, coory1, coorz1, normal1 = Getdoor(room1_x_resized, room1_y_resized, xs1, ys1, zs1)\n",
    "faces1 = generate_mesh_faces(len(points1))\n",
    "print(coorx1, coory1, coorz1)\n",
    "print(normal1)\n"
   ]
  },
  {
   "cell_type": "code",
   "execution_count": 15,
   "metadata": {
    "colab": {
     "base_uri": "https://localhost:8080/"
    },
    "executionInfo": {
     "elapsed": 3702,
     "status": "ok",
     "timestamp": 1680868924590,
     "user": {
      "displayName": "태진김",
      "userId": "07364981126465364779"
     },
     "user_tz": -540
    },
    "id": "iZ95ozz-wEIN",
    "outputId": "abbc6785-cb10-4e8d-87ea-51ded294354a",
    "tags": []
   },
   "outputs": [
    {
     "name": "stdout",
     "output_type": "stream",
     "text": [
      "Eps time: 0.80 sec.\n",
      "295 960\n",
      "-1.1047101083866728 2.7139886093859644 -0.7149003309806846\n",
      "[ 0.00332626 -0.99999042 -0.00284603]\n",
      "Original vector1: [ 0.0030135  -0.99999079  0.00305509]\n",
      "Original vector2: [ 0.00332626 -0.99999042 -0.00284603]\n",
      "Rotated vector2: [ 0.00363891 -0.99995512 -0.00874705]\n",
      "before transition :  -1.1047101083866728 2.7139886093859644 -0.7149003309806846\n",
      "after transition :  -0.2682534801702554 -2.906333447267679 -0.6366268294953753\n"
     ]
    }
   ],
   "source": [
    "cor_id2, room2_x_resized, room2_y_resized, us2, vs2, xs2, ys2, zs2 = Infer(rgb2, 295, 960, net) # 문 좌표 업데이트 원래 중심: 295, 934\n",
    "points2 = get_vertices(cor_id2, xs2, ys2, zs2)\n",
    "coorx2, coory2, coorz2, normal2 = Getdoor(room2_x_resized, room2_y_resized, xs2, ys2, zs2)\n",
    "faces2 = generate_mesh_faces(len(points2))\n",
    "print(coorx2, coory2, coorz2)\n",
    "print(normal2)\n",
    "points2, norm2 = rotate(points1, normal1, points2[:,:3], normal2)\n",
    "print(\"before transition : \", coorx2, coory2, coorz2)\n",
    "points2, coorx2, coory2, coorz2 = transition(points1, coorx1, coory1, coorz1, points2[:,:3], coorx2, coory2, coorz2)\n",
    "print(\"after transition : \", coorx2, coory2, coorz2)"
   ]
  },
  {
   "cell_type": "code",
   "execution_count": 16,
   "metadata": {
    "colab": {
     "base_uri": "https://localhost:8080/"
    },
    "executionInfo": {
     "elapsed": 3175,
     "status": "ok",
     "timestamp": 1680868993200,
     "user": {
      "displayName": "태진김",
      "userId": "07364981126465364779"
     },
     "user_tz": -540
    },
    "id": "8_XyjGphMXd7",
    "outputId": "33c8278e-2f75-48c1-ee02-9e4ec7260759",
    "tags": []
   },
   "outputs": [
    {
     "name": "stdout",
     "output_type": "stream",
     "text": [
      "Eps time: 0.81 sec.\n",
      "280 900\n",
      "-1.221975188138119 1.2993528417688576 -0.2757807693924347\n",
      "[ 0.99999373  0.00285263 -0.00209601]\n"
     ]
    }
   ],
   "source": [
    "cor_id3, room3_x_resized, room3_y_resized, us3, vs3, xs3, ys3, zs3 = Infer(rgb3, 280, 900, net)                                                      # 3버어어어ㅓ어어언\n",
    "points3 = get_vertices(cor_id3, xs3, ys3, zs3)\n",
    "coorx3, coory3, coorz3, normal3 = Getdoor(room3_x_resized, room3_y_resized, xs3, ys3, zs3)\n",
    "faces3 = generate_mesh_faces(len(points3))\n",
    "print(coorx3, coory3, coorz3)\n",
    "print(normal3)\n",
    "# points3, norm3 = rotate(points3, normal1, points2[:,:3], normal2)\n",
    "# print(\"before transition : \", coorx2, coory2, coorz2)\n",
    "# points2, coorx2, coory2, coorz2 = transition(points1, coorx1, coory1, coorz1, points2[:,:3], coorx2, coory2, coorz2)\n",
    "# print(\"after transition : \", coorx2, coory2, coorz2)"
   ]
  },
  {
   "cell_type": "code",
   "execution_count": 17,
   "metadata": {
    "colab": {
     "base_uri": "https://localhost:8080/",
     "height": 542
    },
    "executionInfo": {
     "elapsed": 305,
     "status": "ok",
     "timestamp": 1680869015735,
     "user": {
      "displayName": "태진김",
      "userId": "07364981126465364779"
     },
     "user_tz": -540
    },
    "id": "pnfbDibxlJU7",
    "outputId": "2fa2af5d-1c30-4e92-d448-4738ac8b43ff",
    "tags": []
   },
   "outputs": [
    {
     "data": {
      "application/vnd.plotly.v1+json": {
       "config": {
        "plotlyServerURL": "https://plot.ly"
       },
       "data": [
        {
         "i": [
          0,
          1,
          2
         ],
         "j": [
          1,
          2,
          3
         ],
         "k": [
          2,
          3,
          4
         ],
         "type": "mesh3d",
         "x": [
          5.489130882104398,
          5.672908232686907,
          5.55461531032697,
          5.730495962030578,
          -1.550441887664302,
          -1.5634223647362406,
          -1.5705544699109961,
          -1.5786968474670116
         ],
         "y": [
          1.339216041770684,
          1.3840532994896793,
          -2.7533711951286866,
          -2.8405535998725115,
          -2.858346426950008,
          -2.8822768306329065,
          1.371666688538545,
          1.3787779529187756
         ],
         "z": [
          0.8027189010588347,
          -1.5774449489912996,
          0.8032939468494642,
          -1.5604419498005269,
          0.7933539790854343,
          -1.5755415207278067,
          0.7896911942877247,
          -1.574543174315609
         ]
        },
        {
         "marker": {
          "color": "red",
          "size": 5
         },
         "mode": "markers",
         "type": "scatter3d",
         "x": [
          -0.26825348017025535
         ],
         "y": [
          -2.9063334472676785
         ],
         "z": [
          -0.6366268294953753
         ]
        },
        {
         "anchor": "tail",
         "showlegend": false,
         "sizemode": "absolute",
         "sizeref": 0.5,
         "type": "cone",
         "u": [
          -0.0030135044400361865
         ],
         "v": [
          0.9999907925782112
         ],
         "w": [
          -0.0030550858892762073
         ],
         "x": [
          -0.26825348017025535
         ],
         "y": [
          -2.9063334472676785
         ],
         "z": [
          -0.6366268294953753
         ]
        }
       ],
       "layout": {
        "scene": {
         "aspectmode": "manual",
         "aspectratio": {
          "x": 0.625,
          "y": 1,
          "z": 0.25
         },
         "xaxis": {
          "title": {
           "text": "X"
          },
          "visible": true
         },
         "yaxis": {
          "title": {
           "text": "Y"
          },
          "visible": true
         },
         "zaxis": {
          "title": {
           "text": "Z"
          },
          "visible": true
         }
        },
        "template": {
         "data": {
          "bar": [
           {
            "error_x": {
             "color": "#2a3f5f"
            },
            "error_y": {
             "color": "#2a3f5f"
            },
            "marker": {
             "line": {
              "color": "#E5ECF6",
              "width": 0.5
             },
             "pattern": {
              "fillmode": "overlay",
              "size": 10,
              "solidity": 0.2
             }
            },
            "type": "bar"
           }
          ],
          "barpolar": [
           {
            "marker": {
             "line": {
              "color": "#E5ECF6",
              "width": 0.5
             },
             "pattern": {
              "fillmode": "overlay",
              "size": 10,
              "solidity": 0.2
             }
            },
            "type": "barpolar"
           }
          ],
          "carpet": [
           {
            "aaxis": {
             "endlinecolor": "#2a3f5f",
             "gridcolor": "white",
             "linecolor": "white",
             "minorgridcolor": "white",
             "startlinecolor": "#2a3f5f"
            },
            "baxis": {
             "endlinecolor": "#2a3f5f",
             "gridcolor": "white",
             "linecolor": "white",
             "minorgridcolor": "white",
             "startlinecolor": "#2a3f5f"
            },
            "type": "carpet"
           }
          ],
          "choropleth": [
           {
            "colorbar": {
             "outlinewidth": 0,
             "ticks": ""
            },
            "type": "choropleth"
           }
          ],
          "contour": [
           {
            "colorbar": {
             "outlinewidth": 0,
             "ticks": ""
            },
            "colorscale": [
             [
              0,
              "#0d0887"
             ],
             [
              0.1111111111111111,
              "#46039f"
             ],
             [
              0.2222222222222222,
              "#7201a8"
             ],
             [
              0.3333333333333333,
              "#9c179e"
             ],
             [
              0.4444444444444444,
              "#bd3786"
             ],
             [
              0.5555555555555556,
              "#d8576b"
             ],
             [
              0.6666666666666666,
              "#ed7953"
             ],
             [
              0.7777777777777778,
              "#fb9f3a"
             ],
             [
              0.8888888888888888,
              "#fdca26"
             ],
             [
              1,
              "#f0f921"
             ]
            ],
            "type": "contour"
           }
          ],
          "contourcarpet": [
           {
            "colorbar": {
             "outlinewidth": 0,
             "ticks": ""
            },
            "type": "contourcarpet"
           }
          ],
          "heatmap": [
           {
            "colorbar": {
             "outlinewidth": 0,
             "ticks": ""
            },
            "colorscale": [
             [
              0,
              "#0d0887"
             ],
             [
              0.1111111111111111,
              "#46039f"
             ],
             [
              0.2222222222222222,
              "#7201a8"
             ],
             [
              0.3333333333333333,
              "#9c179e"
             ],
             [
              0.4444444444444444,
              "#bd3786"
             ],
             [
              0.5555555555555556,
              "#d8576b"
             ],
             [
              0.6666666666666666,
              "#ed7953"
             ],
             [
              0.7777777777777778,
              "#fb9f3a"
             ],
             [
              0.8888888888888888,
              "#fdca26"
             ],
             [
              1,
              "#f0f921"
             ]
            ],
            "type": "heatmap"
           }
          ],
          "heatmapgl": [
           {
            "colorbar": {
             "outlinewidth": 0,
             "ticks": ""
            },
            "colorscale": [
             [
              0,
              "#0d0887"
             ],
             [
              0.1111111111111111,
              "#46039f"
             ],
             [
              0.2222222222222222,
              "#7201a8"
             ],
             [
              0.3333333333333333,
              "#9c179e"
             ],
             [
              0.4444444444444444,
              "#bd3786"
             ],
             [
              0.5555555555555556,
              "#d8576b"
             ],
             [
              0.6666666666666666,
              "#ed7953"
             ],
             [
              0.7777777777777778,
              "#fb9f3a"
             ],
             [
              0.8888888888888888,
              "#fdca26"
             ],
             [
              1,
              "#f0f921"
             ]
            ],
            "type": "heatmapgl"
           }
          ],
          "histogram": [
           {
            "marker": {
             "pattern": {
              "fillmode": "overlay",
              "size": 10,
              "solidity": 0.2
             }
            },
            "type": "histogram"
           }
          ],
          "histogram2d": [
           {
            "colorbar": {
             "outlinewidth": 0,
             "ticks": ""
            },
            "colorscale": [
             [
              0,
              "#0d0887"
             ],
             [
              0.1111111111111111,
              "#46039f"
             ],
             [
              0.2222222222222222,
              "#7201a8"
             ],
             [
              0.3333333333333333,
              "#9c179e"
             ],
             [
              0.4444444444444444,
              "#bd3786"
             ],
             [
              0.5555555555555556,
              "#d8576b"
             ],
             [
              0.6666666666666666,
              "#ed7953"
             ],
             [
              0.7777777777777778,
              "#fb9f3a"
             ],
             [
              0.8888888888888888,
              "#fdca26"
             ],
             [
              1,
              "#f0f921"
             ]
            ],
            "type": "histogram2d"
           }
          ],
          "histogram2dcontour": [
           {
            "colorbar": {
             "outlinewidth": 0,
             "ticks": ""
            },
            "colorscale": [
             [
              0,
              "#0d0887"
             ],
             [
              0.1111111111111111,
              "#46039f"
             ],
             [
              0.2222222222222222,
              "#7201a8"
             ],
             [
              0.3333333333333333,
              "#9c179e"
             ],
             [
              0.4444444444444444,
              "#bd3786"
             ],
             [
              0.5555555555555556,
              "#d8576b"
             ],
             [
              0.6666666666666666,
              "#ed7953"
             ],
             [
              0.7777777777777778,
              "#fb9f3a"
             ],
             [
              0.8888888888888888,
              "#fdca26"
             ],
             [
              1,
              "#f0f921"
             ]
            ],
            "type": "histogram2dcontour"
           }
          ],
          "mesh3d": [
           {
            "colorbar": {
             "outlinewidth": 0,
             "ticks": ""
            },
            "type": "mesh3d"
           }
          ],
          "parcoords": [
           {
            "line": {
             "colorbar": {
              "outlinewidth": 0,
              "ticks": ""
             }
            },
            "type": "parcoords"
           }
          ],
          "pie": [
           {
            "automargin": true,
            "type": "pie"
           }
          ],
          "scatter": [
           {
            "fillpattern": {
             "fillmode": "overlay",
             "size": 10,
             "solidity": 0.2
            },
            "type": "scatter"
           }
          ],
          "scatter3d": [
           {
            "line": {
             "colorbar": {
              "outlinewidth": 0,
              "ticks": ""
             }
            },
            "marker": {
             "colorbar": {
              "outlinewidth": 0,
              "ticks": ""
             }
            },
            "type": "scatter3d"
           }
          ],
          "scattercarpet": [
           {
            "marker": {
             "colorbar": {
              "outlinewidth": 0,
              "ticks": ""
             }
            },
            "type": "scattercarpet"
           }
          ],
          "scattergeo": [
           {
            "marker": {
             "colorbar": {
              "outlinewidth": 0,
              "ticks": ""
             }
            },
            "type": "scattergeo"
           }
          ],
          "scattergl": [
           {
            "marker": {
             "colorbar": {
              "outlinewidth": 0,
              "ticks": ""
             }
            },
            "type": "scattergl"
           }
          ],
          "scattermapbox": [
           {
            "marker": {
             "colorbar": {
              "outlinewidth": 0,
              "ticks": ""
             }
            },
            "type": "scattermapbox"
           }
          ],
          "scatterpolar": [
           {
            "marker": {
             "colorbar": {
              "outlinewidth": 0,
              "ticks": ""
             }
            },
            "type": "scatterpolar"
           }
          ],
          "scatterpolargl": [
           {
            "marker": {
             "colorbar": {
              "outlinewidth": 0,
              "ticks": ""
             }
            },
            "type": "scatterpolargl"
           }
          ],
          "scatterternary": [
           {
            "marker": {
             "colorbar": {
              "outlinewidth": 0,
              "ticks": ""
             }
            },
            "type": "scatterternary"
           }
          ],
          "surface": [
           {
            "colorbar": {
             "outlinewidth": 0,
             "ticks": ""
            },
            "colorscale": [
             [
              0,
              "#0d0887"
             ],
             [
              0.1111111111111111,
              "#46039f"
             ],
             [
              0.2222222222222222,
              "#7201a8"
             ],
             [
              0.3333333333333333,
              "#9c179e"
             ],
             [
              0.4444444444444444,
              "#bd3786"
             ],
             [
              0.5555555555555556,
              "#d8576b"
             ],
             [
              0.6666666666666666,
              "#ed7953"
             ],
             [
              0.7777777777777778,
              "#fb9f3a"
             ],
             [
              0.8888888888888888,
              "#fdca26"
             ],
             [
              1,
              "#f0f921"
             ]
            ],
            "type": "surface"
           }
          ],
          "table": [
           {
            "cells": {
             "fill": {
              "color": "#EBF0F8"
             },
             "line": {
              "color": "white"
             }
            },
            "header": {
             "fill": {
              "color": "#C8D4E3"
             },
             "line": {
              "color": "white"
             }
            },
            "type": "table"
           }
          ]
         },
         "layout": {
          "annotationdefaults": {
           "arrowcolor": "#2a3f5f",
           "arrowhead": 0,
           "arrowwidth": 1
          },
          "autotypenumbers": "strict",
          "coloraxis": {
           "colorbar": {
            "outlinewidth": 0,
            "ticks": ""
           }
          },
          "colorscale": {
           "diverging": [
            [
             0,
             "#8e0152"
            ],
            [
             0.1,
             "#c51b7d"
            ],
            [
             0.2,
             "#de77ae"
            ],
            [
             0.3,
             "#f1b6da"
            ],
            [
             0.4,
             "#fde0ef"
            ],
            [
             0.5,
             "#f7f7f7"
            ],
            [
             0.6,
             "#e6f5d0"
            ],
            [
             0.7,
             "#b8e186"
            ],
            [
             0.8,
             "#7fbc41"
            ],
            [
             0.9,
             "#4d9221"
            ],
            [
             1,
             "#276419"
            ]
           ],
           "sequential": [
            [
             0,
             "#0d0887"
            ],
            [
             0.1111111111111111,
             "#46039f"
            ],
            [
             0.2222222222222222,
             "#7201a8"
            ],
            [
             0.3333333333333333,
             "#9c179e"
            ],
            [
             0.4444444444444444,
             "#bd3786"
            ],
            [
             0.5555555555555556,
             "#d8576b"
            ],
            [
             0.6666666666666666,
             "#ed7953"
            ],
            [
             0.7777777777777778,
             "#fb9f3a"
            ],
            [
             0.8888888888888888,
             "#fdca26"
            ],
            [
             1,
             "#f0f921"
            ]
           ],
           "sequentialminus": [
            [
             0,
             "#0d0887"
            ],
            [
             0.1111111111111111,
             "#46039f"
            ],
            [
             0.2222222222222222,
             "#7201a8"
            ],
            [
             0.3333333333333333,
             "#9c179e"
            ],
            [
             0.4444444444444444,
             "#bd3786"
            ],
            [
             0.5555555555555556,
             "#d8576b"
            ],
            [
             0.6666666666666666,
             "#ed7953"
            ],
            [
             0.7777777777777778,
             "#fb9f3a"
            ],
            [
             0.8888888888888888,
             "#fdca26"
            ],
            [
             1,
             "#f0f921"
            ]
           ]
          },
          "colorway": [
           "#636efa",
           "#EF553B",
           "#00cc96",
           "#ab63fa",
           "#FFA15A",
           "#19d3f3",
           "#FF6692",
           "#B6E880",
           "#FF97FF",
           "#FECB52"
          ],
          "font": {
           "color": "#2a3f5f"
          },
          "geo": {
           "bgcolor": "white",
           "lakecolor": "white",
           "landcolor": "#E5ECF6",
           "showlakes": true,
           "showland": true,
           "subunitcolor": "white"
          },
          "hoverlabel": {
           "align": "left"
          },
          "hovermode": "closest",
          "mapbox": {
           "style": "light"
          },
          "paper_bgcolor": "white",
          "plot_bgcolor": "#E5ECF6",
          "polar": {
           "angularaxis": {
            "gridcolor": "white",
            "linecolor": "white",
            "ticks": ""
           },
           "bgcolor": "#E5ECF6",
           "radialaxis": {
            "gridcolor": "white",
            "linecolor": "white",
            "ticks": ""
           }
          },
          "scene": {
           "xaxis": {
            "backgroundcolor": "#E5ECF6",
            "gridcolor": "white",
            "gridwidth": 2,
            "linecolor": "white",
            "showbackground": true,
            "ticks": "",
            "zerolinecolor": "white"
           },
           "yaxis": {
            "backgroundcolor": "#E5ECF6",
            "gridcolor": "white",
            "gridwidth": 2,
            "linecolor": "white",
            "showbackground": true,
            "ticks": "",
            "zerolinecolor": "white"
           },
           "zaxis": {
            "backgroundcolor": "#E5ECF6",
            "gridcolor": "white",
            "gridwidth": 2,
            "linecolor": "white",
            "showbackground": true,
            "ticks": "",
            "zerolinecolor": "white"
           }
          },
          "shapedefaults": {
           "line": {
            "color": "#2a3f5f"
           }
          },
          "ternary": {
           "aaxis": {
            "gridcolor": "white",
            "linecolor": "white",
            "ticks": ""
           },
           "baxis": {
            "gridcolor": "white",
            "linecolor": "white",
            "ticks": ""
           },
           "bgcolor": "#E5ECF6",
           "caxis": {
            "gridcolor": "white",
            "linecolor": "white",
            "ticks": ""
           }
          },
          "title": {
           "x": 0.05
          },
          "xaxis": {
           "automargin": true,
           "gridcolor": "white",
           "linecolor": "white",
           "ticks": "",
           "title": {
            "standoff": 15
           },
           "zerolinecolor": "white",
           "zerolinewidth": 2
          },
          "yaxis": {
           "automargin": true,
           "gridcolor": "white",
           "linecolor": "white",
           "ticks": "",
           "title": {
            "standoff": 15
           },
           "zerolinecolor": "white",
           "zerolinewidth": 2
          }
         }
        }
       }
      }
     },
     "metadata": {},
     "output_type": "display_data"
    }
   ],
   "source": [
    "Mesh1 = go.Mesh3d(\n",
    "            x=points1[:,0],\n",
    "            y=points1[:,1],\n",
    "            z=points1[:,2],\n",
    "            i=faces1[:,0],\n",
    "            j=faces1[:,1],\n",
    "            k=faces1[:,2],\n",
    "            )\n",
    "Mesh2 = go.Mesh3d(\n",
    "                 x=points2[:,0],\n",
    "                 y=points2[:,1],\n",
    "                 z=points2[:,2],\n",
    "                 i=faces2[:,0],\n",
    "                 j=faces2[:,1],\n",
    "                 k=faces2[:,2],\n",
    "                 )\n",
    "fig = go.Figure( # Mesh1, Mesh2 빼놓음\n",
    "    data=[Mesh1,\n",
    "        # # Room1\n",
    "        go.Scatter3d(\n",
    "            x=[coorx1],\n",
    "            y=[coory1],\n",
    "            z=[coorz1],\n",
    "            mode='markers',\n",
    "            marker=dict(\n",
    "                size=5,\n",
    "                color='red'\n",
    "            )\n",
    "        ),\n",
    "         go.Cone(x=[coorx1], y=[coory1], z=[coorz1],\n",
    "                 u=[normal1[0]], v=[normal1[1]], w=[normal1[2]],\n",
    "                 sizemode='absolute', sizeref=0.5,\n",
    "                 anchor='tail', showlegend=False)\n",
    "        # #  Room2\n",
    "        #  \n",
    "        #      go.Scatter3d(\n",
    "        #          x=[coorx2],\n",
    "        #          y=[coory2],\n",
    "        #          z=[coorz2],\n",
    "        #          mode='markers',\n",
    "        #          marker=dict(\n",
    "        #              size=5,\n",
    "        #              color='red'\n",
    "        #          )\n",
    "        #      ),\n",
    "        #      go.Cone(x=[coorx2], y=[coory2], z=[coorz2],\n",
    "        #              u=[normal2[0]], v=[normal2[1]], w=[normal2[2]],\n",
    "        #              sizemode='absolute', sizeref=0.5,\n",
    "        #              anchor='tail', showlegend=False),\n",
    "        #   # #  Room3\n",
    "        #  go.Mesh3d(\n",
    "        #          x=points3[:,0],\n",
    "        #          y=points3[:,1],\n",
    "        #          z=points3[:,2],\n",
    "        #          i=faces3[:,0],\n",
    "        #          j=faces3[:,1],\n",
    "        #          k=faces3[:,2],\n",
    "        #          facecolor=room3_points[:,3:][room3_faces[:,0]]\n",
    "        #      ),\n",
    "        #      go.Scatter3d(\n",
    "        #          x=[coorx3],\n",
    "        #          y=[coory3],\n",
    "        #          z=[coorz3],\n",
    "        #          mode='markers',\n",
    "        #          marker=dict(\n",
    "        #              size=5,\n",
    "        #              color='red'\n",
    "        #          )\n",
    "        #      ),\n",
    "        #      go.Cone(x=[coorx3], y=[coory3], z=[coorz3],\n",
    "        #              u=[normal3[0]], v=[normal3[1]], w=[normal3[2]],\n",
    "        #              sizemode='absolute', sizeref=0.5,\n",
    "        #              anchor='tail', showlegend=False)\n",
    "        ],\n",
    "    layout=dict(\n",
    "        scene=dict(\n",
    "            xaxis=dict(title='X', visible=True),\n",
    "            yaxis=dict(title='Y', visible=True),\n",
    "            zaxis=dict(title='Z', visible=True),\n",
    "            aspectmode=\"manual\",\n",
    "            aspectratio=dict(x=0.625, y=1, z=0.25),\n",
    "\n",
    "        )\n",
    "    )\n",
    ")\n",
    "fig.show()"
   ]
  },
  {
   "cell_type": "code",
   "execution_count": 18,
   "metadata": {
    "executionInfo": {
     "elapsed": 283,
     "status": "ok",
     "timestamp": 1680869023240,
     "user": {
      "displayName": "태진김",
      "userId": "07364981126465364779"
     },
     "user_tz": -540
    },
    "id": "sF49ggqhUDzH",
    "tags": []
   },
   "outputs": [],
   "source": [
    "def transform_open3d(plotly_mesh):\n",
    "  points = np.column_stack((plotly_mesh.x, plotly_mesh.y, plotly_mesh.z))\n",
    "  faces = np.column_stack((plotly_mesh.i, plotly_mesh.j, plotly_mesh.k))\n",
    "  # Prepare vertices and faces\n",
    "  vertices = o3d.utility.Vector3dVector(points[:, :3])\n",
    "  # colors = o3d.utility.Vector3dVector(points[:, 3:] / 255.0)\n",
    "  triangles = o3d.utility.Vector3iVector(points[:,:3])\n",
    "\n",
    "  # Create mesh object\n",
    "  mesh = o3d.geometry.TriangleMesh()\n",
    "  meshvertices = vertices\n",
    "  # mesh1.vertex_colors = colors\n",
    "  mesh.triangles = triangles\n",
    "  mesh.compute_vertex_normals()\n",
    "  return mesh\n",
    "\n"
   ]
  },
  {
   "cell_type": "code",
   "execution_count": 19,
   "metadata": {
    "id": "t2Yy-2jSd2xU",
    "tags": []
   },
   "outputs": [],
   "source": [
    "# mesh1 = transform_open3d(Mesh1)\n",
    "# mesh2 = transform_open3d(Mesh2)\n",
    "\n",
    "# o3d.visualization.draw_geometries([mesh1])\n",
    "\n",
    "\n",
    "# Visualize mesh\n",
    "# o3d.visualization.draw_plotly([mesh2])"
   ]
  },
  {
   "cell_type": "code",
   "execution_count": 2,
   "metadata": {},
   "outputs": [
    {
     "name": "stdout",
     "output_type": "stream",
     "text": [
      "[Open3D WARNING] [SimpleShaderForLineSet] Binding failed with empty geometry::LineSet.\n",
      "[Open3D WARNING] [SimpleShaderForLineSet] Binding failed when preparing data.\n",
      "[Open3D WARNING] [SimpleShaderForLineSet] Something is wrong in compiling or binding.\n",
      "[Open3D WARNING] [SimpleShaderForLineSet] Binding failed with empty geometry::LineSet.\n",
      "[Open3D WARNING] [SimpleShaderForLineSet] Binding failed when preparing data.\n",
      "[Open3D WARNING] [SimpleShaderForLineSet] Something is wrong in compiling or binding.\n",
      "[Open3D WARNING] [SimpleShaderForLineSet] Binding failed with empty geometry::LineSet.\n",
      "[Open3D WARNING] [SimpleShaderForLineSet] Binding failed when preparing data.\n",
      "[Open3D WARNING] [SimpleShaderForLineSet] Something is wrong in compiling or binding.\n",
      "[Open3D WARNING] [SimpleShaderForLineSet] Binding failed with empty geometry::LineSet.\n",
      "[Open3D WARNING] [SimpleShaderForLineSet] Binding failed when preparing data.\n",
      "[Open3D WARNING] [SimpleShaderForLineSet] Something is wrong in compiling or binding.\n",
      "[Open3D WARNING] [SimpleShaderForLineSet] Binding failed with empty geometry::LineSet.\n",
      "[Open3D WARNING] [SimpleShaderForLineSet] Binding failed when preparing data.\n",
      "[Open3D WARNING] [SimpleShaderForLineSet] Something is wrong in compiling or binding.\n",
      "[Open3D WARNING] [SimpleShaderForLineSet] Binding failed with empty geometry::LineSet.\n",
      "[Open3D WARNING] [SimpleShaderForLineSet] Binding failed when preparing data.\n",
      "[Open3D WARNING] [SimpleShaderForLineSet] Something is wrong in compiling or binding.\n",
      "[Open3D WARNING] [SimpleShaderForLineSet] Binding failed with empty geometry::LineSet.\n",
      "[Open3D WARNING] [SimpleShaderForLineSet] Binding failed when preparing data.\n",
      "[Open3D WARNING] [SimpleShaderForLineSet] Something is wrong in compiling or binding.\n",
      "[Open3D WARNING] [SimpleShaderForLineSet] Binding failed with empty geometry::LineSet.\n",
      "[Open3D WARNING] [SimpleShaderForLineSet] Binding failed when preparing data.\n",
      "[Open3D WARNING] [SimpleShaderForLineSet] Something is wrong in compiling or binding.\n",
      "[Open3D WARNING] [SimpleShaderForLineSet] Binding failed with empty geometry::LineSet.\n",
      "[Open3D WARNING] [SimpleShaderForLineSet] Binding failed when preparing data.\n",
      "[Open3D WARNING] [SimpleShaderForLineSet] Something is wrong in compiling or binding.\n"
     ]
    }
   ],
   "source": [
    "import numpy as np\n",
    "import open3d as o3d\n",
    "\n",
    "# Define start and end points of the line\n",
    "start_point = np.array([0.0, 0.0, 0.0])\n",
    "end_point = np.array([1.0, 1.0, 1.0])\n",
    "\n",
    "# Create a LineSet with a single element\n",
    "line_set = o3d.geometry.LineSet()\n",
    "line_set.points = o3d.utility.Vector3dVector(np.array([start_point, end_point]))\n",
    "line_set.lines = o3d.utility.Vector2iVector(np.array([[0, 1]]))\n",
    "\n",
    "# Visualize the LineSet\n",
    "o3d.visualization.draw_geometries([line_set])\n"
   ]
  },
  {
   "cell_type": "code",
   "execution_count": 3,
   "metadata": {},
   "outputs": [
    {
     "name": "stdout",
     "output_type": "stream",
     "text": [
      "[[ 2  3  4]\n",
      " [ 5  6  7]\n",
      " [ 8  9 10]]\n"
     ]
    }
   ],
   "source": [
    "import numpy as np\n",
    "\n",
    "# Define a set of points\n",
    "points = np.array([[1, 2, 3], [4, 5, 6], [7, 8, 9]])\n",
    "\n",
    "# Define a translation matrix\n",
    "T = np.array([1, 1, 1])\n",
    "\n",
    "# Apply the translation to the points\n",
    "points = points + T\n",
    "\n",
    "# Print the new set of points\n",
    "print(points)\n"
   ]
  }
 ],
 "metadata": {
  "colab": {
   "provenance": [
    {
     "file_id": "1EcEiivuU5zfJuifSmuA-l2_XyOlzmmgD",
     "timestamp": 1680861859904
    }
   ]
  },
  "kernelspec": {
   "display_name": "Python 3 (ipykernel)",
   "language": "python",
   "name": "python3"
  },
  "language_info": {
   "codemirror_mode": {
    "name": "ipython",
    "version": 3
   },
   "file_extension": ".py",
   "mimetype": "text/x-python",
   "name": "python",
   "nbconvert_exporter": "python",
   "pygments_lexer": "ipython3",
   "version": "3.10.10"
  }
 },
 "nbformat": 4,
 "nbformat_minor": 4
}
